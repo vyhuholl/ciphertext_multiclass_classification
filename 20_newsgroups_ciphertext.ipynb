{
  "nbformat": 4,
  "nbformat_minor": 0,
  "metadata": {
    "colab": {
      "name": "20_newsgroups_ciphertext.ipynb",
      "version": "0.3.2",
      "provenance": [],
      "collapsed_sections": []
    },
    "kernelspec": {
      "name": "python3",
      "display_name": "Python 3"
    },
    "accelerator": "GPU"
  },
  "cells": [
    {
      "cell_type": "code",
      "metadata": {
        "id": "BfNUBoIQjHaX",
        "colab_type": "code",
        "colab": {}
      },
      "source": [
        "!pip install -U -q kaggle\n",
        "!mkdir -p ~/.kaggle"
      ],
      "execution_count": 0,
      "outputs": []
    },
    {
      "cell_type": "code",
      "metadata": {
        "id": "aCS09_ikjeuI",
        "colab_type": "code",
        "colab": {}
      },
      "source": [
        "from google.colab import files\n",
        "from IPython.display import clear_output\n",
        "files.upload()\n",
        "clear_output()"
      ],
      "execution_count": 0,
      "outputs": []
    },
    {
      "cell_type": "code",
      "metadata": {
        "id": "H1gLFCm48ooh",
        "colab_type": "code",
        "colab": {}
      },
      "source": [
        "!chmod 600 kaggle.json"
      ],
      "execution_count": 0,
      "outputs": []
    },
    {
      "cell_type": "code",
      "metadata": {
        "id": "Wp5oObGtjmle",
        "colab_type": "code",
        "colab": {}
      },
      "source": [
        "!cp kaggle.json ~/.kaggle/"
      ],
      "execution_count": 0,
      "outputs": []
    },
    {
      "cell_type": "code",
      "metadata": {
        "id": "KGveXEPLjtXR",
        "colab_type": "code",
        "outputId": "c7f05e9e-d080-4626-a4ef-a1d36544d5d2",
        "colab": {
          "base_uri": "https://localhost:8080/",
          "height": 199
        }
      },
      "source": [
        "!kaggle competitions download -c 20-newsgroups-ciphertext-challenge"
      ],
      "execution_count": 5,
      "outputs": [
        {
          "output_type": "stream",
          "text": [
            "Downloading sample_submission.csv.zip to /content\n",
            "\r  0% 0.00/556k [00:00<?, ?B/s]\n",
            "100% 556k/556k [00:00<00:00, 75.6MB/s]\n",
            "Downloading test.csv.zip to /content\n",
            " 56% 9.00M/16.2M [00:00<00:00, 27.2MB/s]\n",
            "100% 16.2M/16.2M [00:00<00:00, 41.0MB/s]\n",
            "Downloading train.csv.zip to /content\n",
            "  0% 0.00/6.98M [00:00<?, ?B/s]\n",
            "100% 6.98M/6.98M [00:00<00:00, 63.5MB/s]\n"
          ],
          "name": "stdout"
        }
      ]
    },
    {
      "cell_type": "code",
      "metadata": {
        "id": "-AJkArNB0Ocf",
        "colab_type": "code",
        "outputId": "3ccdb26b-5fcd-4009-9ccd-26754b9073e1",
        "colab": {
          "base_uri": "https://localhost:8080/",
          "height": 114
        }
      },
      "source": [
        "!unzip train.csv.zip\n",
        "!unzip test.csv.zip"
      ],
      "execution_count": 6,
      "outputs": [
        {
          "output_type": "stream",
          "text": [
            "Archive:  train.csv.zip\n",
            "  inflating: train.csv               \n",
            "Archive:  test.csv.zip\n",
            "  inflating: test.csv                \n"
          ],
          "name": "stdout"
        }
      ]
    },
    {
      "cell_type": "markdown",
      "metadata": {
        "id": "jYQFu0RivuYI",
        "colab_type": "text"
      },
      "source": [
        "# Objective\n",
        "Multiclass classification on a ciphered texts."
      ]
    },
    {
      "cell_type": "markdown",
      "metadata": {
        "id": "g36ZQrmrwaOA",
        "colab_type": "text"
      },
      "source": [
        "# Data\n",
        "Source: https://www.kaggle.com/c/20-newsgroups-ciphertext-challenge/ </br>\n",
        "and http://qwone.com/~jason/20Newsgroups/ </br>\n",
        "The competition dataset is a well-known dataset often used as a sample set for multiclass classification and NLP. The original dataset contains $\\approx$ 20 000 documents, partitioned (nearly) evenly across 20 different newsgroups. The newsgroups (partitioned according to subject matter) are: </br>\n",
        "\n",
        "*   comp.graphics, comp.os.ms-windows.misc, comp.sys.ibm.pc.hardware, comp.sys.mac.hardware, comp.windows.x\n",
        "*   rec.autos, rec.motorcycles, rec.sport.baseball, rec.sport.hockey\n",
        "*   sci.crypt, sci.electronics, sci.med, sci.space\n",
        "*   talk.politics.misc, talk.politics.guns, talk.politics.mideast\n",
        "*   talk.religion.misc, alt.atheism, soc.religion.christian\n",
        "*   misc.forsale\n",
        "\n",
        "For the competition the dataset was encrypted with up to 4 classis ciphers. Every document in the dataset was broken into sequential 300-character chunks, and all chunks for the document were then encrypted based on its difficulty level. A difficulty of 1 means that only cipher #1 was used. A difficulty of 2 means cipher #1 was applied, followed by cipher #2, and so on. The difficulty level denotes exactly which ciphers were applied, and in what order."
      ]
    },
    {
      "cell_type": "code",
      "metadata": {
        "id": "ww3IYZM7u_Fl",
        "colab_type": "code",
        "colab": {}
      },
      "source": [
        "import pandas as pd\n",
        "import numpy as np\n",
        "from sklearn.model_selection import train_test_split\n",
        "from sklearn.feature_extraction.text import TfidfVectorizer\n",
        "from sklearn.svm import LinearSVC\n",
        "from sklearn.metrics import accuracy_score, f1_score"
      ],
      "execution_count": 0,
      "outputs": []
    },
    {
      "cell_type": "code",
      "metadata": {
        "id": "iwDE7Yqw0HIz",
        "colab_type": "code",
        "outputId": "b8cff493-dce3-47a2-a604-db9db262623e",
        "colab": {
          "base_uri": "https://localhost:8080/",
          "height": 34
        }
      },
      "source": [
        "df = pd.read_csv(\"train.csv\")\n",
        "print(\"Number of rows in the dataset : \", df.shape[0])"
      ],
      "execution_count": 8,
      "outputs": [
        {
          "output_type": "stream",
          "text": [
            "Number of rows in the dataset :  39052\n"
          ],
          "name": "stdout"
        }
      ]
    },
    {
      "cell_type": "code",
      "metadata": {
        "id": "DDmXjcpG0iv_",
        "colab_type": "code",
        "outputId": "96775f98-332c-4b21-adaa-490ebe8f02c6",
        "colab": {
          "base_uri": "https://localhost:8080/",
          "height": 204
        }
      },
      "source": [
        "df.head()"
      ],
      "execution_count": 9,
      "outputs": [
        {
          "output_type": "execute_result",
          "data": {
            "text/html": [
              "<div>\n",
              "<style scoped>\n",
              "    .dataframe tbody tr th:only-of-type {\n",
              "        vertical-align: middle;\n",
              "    }\n",
              "\n",
              "    .dataframe tbody tr th {\n",
              "        vertical-align: top;\n",
              "    }\n",
              "\n",
              "    .dataframe thead th {\n",
              "        text-align: right;\n",
              "    }\n",
              "</style>\n",
              "<table border=\"1\" class=\"dataframe\">\n",
              "  <thead>\n",
              "    <tr style=\"text-align: right;\">\n",
              "      <th></th>\n",
              "      <th>Id</th>\n",
              "      <th>difficulty</th>\n",
              "      <th>ciphertext</th>\n",
              "      <th>target</th>\n",
              "    </tr>\n",
              "  </thead>\n",
              "  <tbody>\n",
              "    <tr>\n",
              "      <th>0</th>\n",
              "      <td>ID_88b9bbd73</td>\n",
              "      <td>4</td>\n",
              "      <td>ob|I\u0006\fK?zzhX*L{83B3Z,\u0006FuL*Pusm$83L\\t@r$$*38,8s...</td>\n",
              "      <td>10</td>\n",
              "    </tr>\n",
              "    <tr>\n",
              "      <th>1</th>\n",
              "      <td>ID_f489bd59f</td>\n",
              "      <td>1</td>\n",
              "      <td>c1|FaAO120O'8o\u0002vfoy1W#at\u001bvGs1[1s1[1/1]O-a8o1-\u001b...</td>\n",
              "      <td>13</td>\n",
              "    </tr>\n",
              "    <tr>\n",
              "      <th>2</th>\n",
              "      <td>ID_f90fee9c7</td>\n",
              "      <td>2</td>\n",
              "      <td>1*e4N8$f$0ccOui\u0018hkHek\u001a$\u0010k*\u001aV*hoe\u0010V\u001a$Hj8\bV\u0003hH8...</td>\n",
              "      <td>19</td>\n",
              "    </tr>\n",
              "    <tr>\n",
              "      <th>3</th>\n",
              "      <td>ID_8303ced65</td>\n",
              "      <td>1</td>\n",
              "      <td>O8v^10\u001bO#to1'#^'^\u0002\u001b\u0002tv1^]s111t0\u001b1O\u0002taq&gt;\u001b-ata_1...</td>\n",
              "      <td>17</td>\n",
              "    </tr>\n",
              "    <tr>\n",
              "      <th>4</th>\n",
              "      <td>ID_72abc2cb7</td>\n",
              "      <td>2</td>\n",
              "      <td>e\u001aV}H\u001a}kh\u001afe4b8'S.Vc}{A\f\f.#VikV.\u001afV?{$f7\u001a$Hjb8...</td>\n",
              "      <td>0</td>\n",
              "    </tr>\n",
              "  </tbody>\n",
              "</table>\n",
              "</div>"
            ],
            "text/plain": [
              "             Id  ...  target\n",
              "0  ID_88b9bbd73  ...      10\n",
              "1  ID_f489bd59f  ...      13\n",
              "2  ID_f90fee9c7  ...      19\n",
              "3  ID_8303ced65  ...      17\n",
              "4  ID_72abc2cb7  ...       0\n",
              "\n",
              "[5 rows x 4 columns]"
            ]
          },
          "metadata": {
            "tags": []
          },
          "execution_count": 9
        }
      ]
    },
    {
      "cell_type": "code",
      "metadata": {
        "id": "tSgZdvae6GK2",
        "colab_type": "code",
        "colab": {}
      },
      "source": [
        "df['plaintext'] = '' #adding a column for the decrypted text"
      ],
      "execution_count": 0,
      "outputs": []
    },
    {
      "cell_type": "markdown",
      "metadata": {
        "id": "PSgAN5CJ9zm5",
        "colab_type": "text"
      },
      "source": [
        "Now here is the trick: looking up kernels for this dataset on Kaggle, I found out that a user named Flal already cracked cipher #1 and cipher #2 (which were simple [substitution ciphers](https://en.wikipedia.org/wiki/Substitution_cipher), decipherable by manually mapping symbols frequences). Cipher #3 (and therefore cipher #4) wasn't decipherable this way.</br>\n",
        "Here is Flal's notebook with cipher #1 and cipher #2 full solutions: </br>\n",
        "https://www.kaggle.com/leflal/cipher-1-cipher-2-full-solutions </br>\n",
        "I decided to use this solution to ease the problem."
      ]
    },
    {
      "cell_type": "code",
      "metadata": {
        "id": "UE2wE1KIDcMi",
        "colab_type": "code",
        "outputId": "b32f3d0b-6ba5-4b9f-d129-480125203259",
        "colab": {
          "base_uri": "https://localhost:8080/",
          "height": 446
        }
      },
      "source": [
        "!wget https://www.dropbox.com/s/mtmfzdkgt0oavrm/cipher1_map.csv?dl=0 -O cipher1_map.csv"
      ],
      "execution_count": 11,
      "outputs": [
        {
          "output_type": "stream",
          "text": [
            "--2019-06-14 02:29:28--  https://www.dropbox.com/s/mtmfzdkgt0oavrm/cipher1_map.csv?dl=0\n",
            "Resolving www.dropbox.com (www.dropbox.com)... 162.125.9.1, 2620:100:601f:1::a27d:901\n",
            "Connecting to www.dropbox.com (www.dropbox.com)|162.125.9.1|:443... connected.\n",
            "HTTP request sent, awaiting response... 301 Moved Permanently\n",
            "Location: /s/raw/mtmfzdkgt0oavrm/cipher1_map.csv [following]\n",
            "--2019-06-14 02:29:28--  https://www.dropbox.com/s/raw/mtmfzdkgt0oavrm/cipher1_map.csv\n",
            "Reusing existing connection to www.dropbox.com:443.\n",
            "HTTP request sent, awaiting response... 302 Found\n",
            "Location: https://uccdaafa85f3e0b422e142fbfe00.dl.dropboxusercontent.com/cd/0/inline/Aixd5uqysDLqkQEBQ0Ud99zu6AqXPmhIcXpeXz_QfgRSClKr0rNEx06MnUvK_xZH_QJYfe8fWcOa0KFkDxr55jlady5Djy5wlGsu6ieNgW7kEg/file# [following]\n",
            "--2019-06-14 02:29:28--  https://uccdaafa85f3e0b422e142fbfe00.dl.dropboxusercontent.com/cd/0/inline/Aixd5uqysDLqkQEBQ0Ud99zu6AqXPmhIcXpeXz_QfgRSClKr0rNEx06MnUvK_xZH_QJYfe8fWcOa0KFkDxr55jlady5Djy5wlGsu6ieNgW7kEg/file\n",
            "Resolving uccdaafa85f3e0b422e142fbfe00.dl.dropboxusercontent.com (uccdaafa85f3e0b422e142fbfe00.dl.dropboxusercontent.com)... 162.125.9.6, 2620:100:6031:6::a27d:5106\n",
            "Connecting to uccdaafa85f3e0b422e142fbfe00.dl.dropboxusercontent.com (uccdaafa85f3e0b422e142fbfe00.dl.dropboxusercontent.com)|162.125.9.6|:443... connected.\n",
            "HTTP request sent, awaiting response... 200 OK\n",
            "Length: 433 [text/plain]\n",
            "Saving to: ‘cipher1_map.csv’\n",
            "\n",
            "cipher1_map.csv     100%[===================>]     433  --.-KB/s    in 0s      \n",
            "\n",
            "2019-06-14 02:29:29 (76.6 MB/s) - ‘cipher1_map.csv’ saved [433/433]\n",
            "\n"
          ],
          "name": "stdout"
        }
      ]
    },
    {
      "cell_type": "code",
      "metadata": {
        "id": "BcSEJufADi4u",
        "colab_type": "code",
        "outputId": "a1ba57ef-99ae-407c-ab38-8628efdfcac7",
        "colab": {
          "base_uri": "https://localhost:8080/",
          "height": 446
        }
      },
      "source": [
        "!wget https://www.dropbox.com/s/o83vocsvtve9q0g/cipher2_map.csv?dl=0 -O cipher2_map.csv"
      ],
      "execution_count": 12,
      "outputs": [
        {
          "output_type": "stream",
          "text": [
            "--2019-06-14 02:29:31--  https://www.dropbox.com/s/o83vocsvtve9q0g/cipher2_map.csv?dl=0\n",
            "Resolving www.dropbox.com (www.dropbox.com)... 162.125.9.1, 2620:100:601f:1::a27d:901\n",
            "Connecting to www.dropbox.com (www.dropbox.com)|162.125.9.1|:443... connected.\n",
            "HTTP request sent, awaiting response... 301 Moved Permanently\n",
            "Location: /s/raw/o83vocsvtve9q0g/cipher2_map.csv [following]\n",
            "--2019-06-14 02:29:31--  https://www.dropbox.com/s/raw/o83vocsvtve9q0g/cipher2_map.csv\n",
            "Reusing existing connection to www.dropbox.com:443.\n",
            "HTTP request sent, awaiting response... 302 Found\n",
            "Location: https://uc568eed8395957b1c32adbda84d.dl.dropboxusercontent.com/cd/0/inline/AizL0OdIkMPMz7mYERo1vU-sn7AMgkwJlmGOfHkmF2C8khwvoLV7Q79pwyiDKgaU13qDfVpgf_PUGW7C9C0JdCZsEgPET34jwD_Qg5MXYnOl9g/file# [following]\n",
            "--2019-06-14 02:29:31--  https://uc568eed8395957b1c32adbda84d.dl.dropboxusercontent.com/cd/0/inline/AizL0OdIkMPMz7mYERo1vU-sn7AMgkwJlmGOfHkmF2C8khwvoLV7Q79pwyiDKgaU13qDfVpgf_PUGW7C9C0JdCZsEgPET34jwD_Qg5MXYnOl9g/file\n",
            "Resolving uc568eed8395957b1c32adbda84d.dl.dropboxusercontent.com (uc568eed8395957b1c32adbda84d.dl.dropboxusercontent.com)... 162.125.9.6, 2620:100:601f:6::a27d:906\n",
            "Connecting to uc568eed8395957b1c32adbda84d.dl.dropboxusercontent.com (uc568eed8395957b1c32adbda84d.dl.dropboxusercontent.com)|162.125.9.6|:443... connected.\n",
            "HTTP request sent, awaiting response... 200 OK\n",
            "Length: 455 [text/plain]\n",
            "Saving to: ‘cipher2_map.csv’\n",
            "\n",
            "cipher2_map.csv     100%[===================>]     455  --.-KB/s    in 0s      \n",
            "\n",
            "2019-06-14 02:29:32 (94.9 MB/s) - ‘cipher2_map.csv’ saved [455/455]\n",
            "\n"
          ],
          "name": "stdout"
        }
      ]
    },
    {
      "cell_type": "code",
      "metadata": {
        "id": "6kLp_W9z9Ud5",
        "colab_type": "code",
        "colab": {}
      },
      "source": [
        "cipher_1_map = pd.read_csv('cipher1_map.csv')\n",
        "cipher_2_map = pd.read_csv('cipher2_map.csv')\n",
        "#Note: the second mapping maps plain text to text encrypted with 2 difficulty level, skipping cipher #1 stage.\n",
        "\n",
        "cipher = {1: {}, 2: {}}\n",
        "\n",
        "for index, row in cipher_1_map.iterrows():\n",
        "    cipher[1][row['cipher']] = row['plain']\n",
        "\n",
        "for index, row in cipher_2_map.iterrows():\n",
        "    cipher[2][row['cipher']] = row['plain']"
      ],
      "execution_count": 0,
      "outputs": []
    },
    {
      "cell_type": "code",
      "metadata": {
        "id": "pgJabp2cEwPj",
        "colab_type": "code",
        "outputId": "e49a094a-a35d-4c3e-a570-f191fdba0350",
        "colab": {
          "base_uri": "https://localhost:8080/",
          "height": 1751
        }
      },
      "source": [
        "cipher[1]"
      ],
      "execution_count": 14,
      "outputs": [
        {
          "output_type": "execute_result",
          "data": {
            "text/plain": [
              "{'\\x02': 'n',\n",
              " '\\x03': 'b',\n",
              " '\\x06': '7',\n",
              " '\\x08': '.',\n",
              " '\\t': '5',\n",
              " '\\x0c': '%',\n",
              " '\\x10': 'Y',\n",
              " '\\x18': 'V',\n",
              " '\\x1a': 'q',\n",
              " '\\x1b': 'e',\n",
              " '\\x1c': '*',\n",
              " '\\x1e': 'R',\n",
              " ' ': '<',\n",
              " '!': 'X',\n",
              " '\"': 'G',\n",
              " '#': 'r',\n",
              " '$': '\\x02',\n",
              " '%': 'O',\n",
              " '&': '?',\n",
              " \"'\": 'p',\n",
              " '(': '^',\n",
              " ')': '_',\n",
              " '*': 'F',\n",
              " '+': 'x',\n",
              " ',': '4',\n",
              " '-': 'm',\n",
              " '.': '~',\n",
              " '/': 'A',\n",
              " '0': 'h',\n",
              " '1': ' ',\n",
              " '2': 'C',\n",
              " '3': ';',\n",
              " '4': '|',\n",
              " '5': '6',\n",
              " '6': '\"',\n",
              " '8': 'l',\n",
              " '9': 'P',\n",
              " ':': 'I',\n",
              " ';': \"'\",\n",
              " '<': '9',\n",
              " '=': '\\x10',\n",
              " '>': 'S',\n",
              " '?': '/',\n",
              " '@': 'U',\n",
              " 'A': 'd',\n",
              " 'B': '$',\n",
              " 'D': '\\x0c',\n",
              " 'E': 'E',\n",
              " 'F': 'L',\n",
              " 'G': ':',\n",
              " 'H': '2',\n",
              " 'I': '}',\n",
              " 'J': 'B',\n",
              " 'K': 'Z',\n",
              " 'L': '1',\n",
              " 'O': 'a',\n",
              " 'P': '!',\n",
              " 'Q': '\\t',\n",
              " 'S': '\\x08',\n",
              " 'T': ',',\n",
              " 'U': '[',\n",
              " 'V': 'Q',\n",
              " 'W': 'w',\n",
              " 'X': 'j',\n",
              " 'Y': '`',\n",
              " 'Z': '=',\n",
              " '[': '>',\n",
              " '\\\\': '0',\n",
              " ']': 'f',\n",
              " '^': 'o',\n",
              " '_': 'c',\n",
              " '`': '#',\n",
              " 'a': 'i',\n",
              " 'b': '@',\n",
              " 'c': 'u',\n",
              " 'd': 'g',\n",
              " 'e': 'M',\n",
              " 'f': 'k',\n",
              " 'g': 'H',\n",
              " 'h': 'z',\n",
              " 'i': ']',\n",
              " 'k': '{',\n",
              " 'l': 'W',\n",
              " 'm': '\\\\',\n",
              " 'n': '8',\n",
              " 'o': 'y',\n",
              " 'p': '\\x1e',\n",
              " 'q': '-',\n",
              " 'r': '&',\n",
              " 's': '\\n',\n",
              " 't': 't',\n",
              " 'u': '3',\n",
              " 'v': 's',\n",
              " 'w': 'K',\n",
              " 'x': 'D',\n",
              " 'y': ')',\n",
              " 'z': 'v',\n",
              " '{': 'T',\n",
              " '|': '(',\n",
              " '}': 'J',\n",
              " '~': '+',\n",
              " '\\x7f': 'N'}"
            ]
          },
          "metadata": {
            "tags": []
          },
          "execution_count": 14
        }
      ]
    },
    {
      "cell_type": "code",
      "metadata": {
        "id": "_yUNoyIEE8JK",
        "colab_type": "code",
        "outputId": "54371ca3-dbd1-469b-e32e-74ff4b17c544",
        "colab": {
          "base_uri": "https://localhost:8080/",
          "height": 1836
        }
      },
      "source": [
        "cipher[2]"
      ],
      "execution_count": 15,
      "outputs": [
        {
          "output_type": "execute_result",
          "data": {
            "text/plain": [
              "{'\\x02': ')',\n",
              " '\\x03': 'v',\n",
              " '\\x06': 'T',\n",
              " '\\x08': '(',\n",
              " '\\t': 'J',\n",
              " '\\n': '+',\n",
              " '\\x0c': 'N',\n",
              " '\\x10': 'n',\n",
              " '\\x18': 'b',\n",
              " '\\x19': '7',\n",
              " '\\x1a': '.',\n",
              " '\\x1b': '5',\n",
              " '\\x1c': '\\x19',\n",
              " '\\x1e': '%',\n",
              " ' ': 'Y',\n",
              " '!': 'V',\n",
              " '\"': '\\x1b',\n",
              " '#': 'q',\n",
              " '$': 'e',\n",
              " '%': '*',\n",
              " '&': 'R',\n",
              " \"'\": '<',\n",
              " '(': 'X',\n",
              " ')': 'G',\n",
              " '*': 'r',\n",
              " '+': '\\x02',\n",
              " ',': 'O',\n",
              " '-': '?',\n",
              " '.': 'p',\n",
              " '/': '^',\n",
              " '0': '_',\n",
              " '1': 'F',\n",
              " '2': 'x',\n",
              " '3': '4',\n",
              " '4': 'm',\n",
              " '5': '~',\n",
              " '6': 'A',\n",
              " '7': 'h',\n",
              " '8': ' ',\n",
              " '9': 'C',\n",
              " ':': ';',\n",
              " ';': '|',\n",
              " '<': '6',\n",
              " '=': '\"',\n",
              " '>': '\\x03',\n",
              " '?': 'l',\n",
              " '@': 'P',\n",
              " 'A': 'I',\n",
              " 'B': \"'\",\n",
              " 'C': '9',\n",
              " 'E': 'S',\n",
              " 'F': '/',\n",
              " 'G': 'U',\n",
              " 'H': 'd',\n",
              " 'I': '$',\n",
              " 'J': '\\x1a',\n",
              " 'K': '\\x0c',\n",
              " 'L': 'E',\n",
              " 'M': 'L',\n",
              " 'N': ':',\n",
              " 'O': '2',\n",
              " 'P': '}',\n",
              " 'Q': 'B',\n",
              " 'R': 'Z',\n",
              " 'S': '1',\n",
              " 'T': '\\x7f',\n",
              " 'V': 'a',\n",
              " 'W': '!',\n",
              " 'X': '\\t',\n",
              " 'Y': '\\x06',\n",
              " 'Z': '\\x08',\n",
              " '[': ',',\n",
              " '\\\\': '[',\n",
              " ']': 'Q',\n",
              " '^': 'w',\n",
              " '_': 'j',\n",
              " '`': '`',\n",
              " 'a': '=',\n",
              " 'b': '>',\n",
              " 'c': '0',\n",
              " 'd': 'f',\n",
              " 'e': 'o',\n",
              " 'f': 'c',\n",
              " 'g': '#',\n",
              " 'h': 'i',\n",
              " 'i': '@',\n",
              " 'j': 'u',\n",
              " 'k': 'g',\n",
              " 'l': 'M',\n",
              " 'm': 'k',\n",
              " 'n': 'H',\n",
              " 'o': 'z',\n",
              " 'p': ']',\n",
              " 'q': '\\x18',\n",
              " 'r': '{',\n",
              " 's': 'W',\n",
              " 't': '\\\\',\n",
              " 'u': '8',\n",
              " 'v': 'y',\n",
              " 'x': '-',\n",
              " 'y': '&',\n",
              " 'z': '\\n',\n",
              " '{': 't',\n",
              " '|': '3',\n",
              " '}': 's',\n",
              " '~': 'K',\n",
              " '\\x7f': 'D'}"
            ]
          },
          "metadata": {
            "tags": []
          },
          "execution_count": 15
        }
      ]
    },
    {
      "cell_type": "code",
      "metadata": {
        "id": "kQvAECDCFGp6",
        "colab_type": "code",
        "colab": {}
      },
      "source": [
        "#decrypting texts with difficulty levels 1 and 2\n",
        "\n",
        "def decipher(text, cipher):\n",
        "    result = ''\n",
        "    for i in range(len(text)):\n",
        "        result += cipher[text[i]]\n",
        "    return result\n",
        "\n",
        "for i in range(len(df)):\n",
        "    if df['difficulty'][i] == 1 or df['difficulty'][i] == 2:\n",
        "        df['plaintext'][i] = decipher(df['ciphertext'][i], cipher[df['difficulty'][i]])\n",
        "        df['ciphertext'][i] = df['plaintext'][i]\n",
        "    print(f\"Decrypted {i + 1} texts.\")\n",
        "    clear_output()"
      ],
      "execution_count": 0,
      "outputs": []
    },
    {
      "cell_type": "code",
      "metadata": {
        "id": "uJluLUlIJlTe",
        "colab_type": "code",
        "colab": {
          "base_uri": "https://localhost:8080/",
          "height": 204
        },
        "outputId": "84df67a3-e069-4dfc-e615-924fe6f4eb33"
      },
      "source": [
        "df.head() #it works!"
      ],
      "execution_count": 17,
      "outputs": [
        {
          "output_type": "execute_result",
          "data": {
            "text/html": [
              "<div>\n",
              "<style scoped>\n",
              "    .dataframe tbody tr th:only-of-type {\n",
              "        vertical-align: middle;\n",
              "    }\n",
              "\n",
              "    .dataframe tbody tr th {\n",
              "        vertical-align: top;\n",
              "    }\n",
              "\n",
              "    .dataframe thead th {\n",
              "        text-align: right;\n",
              "    }\n",
              "</style>\n",
              "<table border=\"1\" class=\"dataframe\">\n",
              "  <thead>\n",
              "    <tr style=\"text-align: right;\">\n",
              "      <th></th>\n",
              "      <th>Id</th>\n",
              "      <th>difficulty</th>\n",
              "      <th>ciphertext</th>\n",
              "      <th>target</th>\n",
              "      <th>plaintext</th>\n",
              "    </tr>\n",
              "  </thead>\n",
              "  <tbody>\n",
              "    <tr>\n",
              "      <th>0</th>\n",
              "      <td>ID_88b9bbd73</td>\n",
              "      <td>4</td>\n",
              "      <td>ob|I\u0006\fK?zzhX*L{83B3Z,\u0006FuL*Pusm$83L\\t@r$$*38,8s...</td>\n",
              "      <td>10</td>\n",
              "      <td></td>\n",
              "    </tr>\n",
              "    <tr>\n",
              "      <th>1</th>\n",
              "      <td>ID_f489bd59f</td>\n",
              "      <td>1</td>\n",
              "      <td>u (Lida Chaplynsky) writes:\\n &gt; \\n &gt; A family ...</td>\n",
              "      <td>13</td>\n",
              "      <td>u (Lida Chaplynsky) writes:\\n &gt; \\n &gt; A family ...</td>\n",
              "    </tr>\n",
              "    <tr>\n",
              "      <th>2</th>\n",
              "      <td>ID_f90fee9c7</td>\n",
              "      <td>2</td>\n",
              "      <td>From: ece_0028@bigdog.engr.arizona.edu (David ...</td>\n",
              "      <td>19</td>\n",
              "      <td>From: ece_0028@bigdog.engr.arizona.edu (David ...</td>\n",
              "    </tr>\n",
              "    <tr>\n",
              "      <th>3</th>\n",
              "      <td>ID_8303ced65</td>\n",
              "      <td>1</td>\n",
              "      <td>also hearty proponents of\\n   the anti-Semitic...</td>\n",
              "      <td>17</td>\n",
              "      <td>also hearty proponents of\\n   the anti-Semitic...</td>\n",
              "    </tr>\n",
              "    <tr>\n",
              "      <th>4</th>\n",
              "      <td>ID_72abc2cb7</td>\n",
              "      <td>2</td>\n",
              "      <td>o.asd.sgi.com&gt; &lt;1pa0stINNpqa@gap.caltech.edu&gt; ...</td>\n",
              "      <td>0</td>\n",
              "      <td>o.asd.sgi.com&gt; &lt;1pa0stINNpqa@gap.caltech.edu&gt; ...</td>\n",
              "    </tr>\n",
              "  </tbody>\n",
              "</table>\n",
              "</div>"
            ],
            "text/plain": [
              "             Id  ...                                          plaintext\n",
              "0  ID_88b9bbd73  ...                                                   \n",
              "1  ID_f489bd59f  ...  u (Lida Chaplynsky) writes:\\n > \\n > A family ...\n",
              "2  ID_f90fee9c7  ...  From: ece_0028@bigdog.engr.arizona.edu (David ...\n",
              "3  ID_8303ced65  ...  also hearty proponents of\\n   the anti-Semitic...\n",
              "4  ID_72abc2cb7  ...  o.asd.sgi.com> <1pa0stINNpqa@gap.caltech.edu> ...\n",
              "\n",
              "[5 rows x 5 columns]"
            ]
          },
          "metadata": {
            "tags": []
          },
          "execution_count": 17
        }
      ]
    },
    {
      "cell_type": "code",
      "metadata": {
        "id": "QKrGSscygoFk",
        "colab_type": "code",
        "colab": {
          "base_uri": "https://localhost:8080/",
          "height": 74
        },
        "outputId": "7e19d4e1-84d4-4866-b7cd-e0244cb2fe0f"
      },
      "source": [
        "df['ciphertext'][1]"
      ],
      "execution_count": 19,
      "outputs": [
        {
          "output_type": "execute_result",
          "data": {
            "text/plain": [
              "'u (Lida Chaplynsky) writes:\\n > \\n > A family member of mine is suffering from a severe depression brought on\\n > by menopause as well as a mental break down.  She is being treated with\\n > Halydol with some success but the treatments being provided through her\\n > psychiatrist are not satisfactory.  Som'"
            ]
          },
          "metadata": {
            "tags": []
          },
          "execution_count": 19
        }
      ]
    },
    {
      "cell_type": "code",
      "metadata": {
        "id": "8xdVRe0zhfvw",
        "colab_type": "code",
        "colab": {
          "base_uri": "https://localhost:8080/",
          "height": 74
        },
        "outputId": "99c6e2c8-5c49-490b-96a0-983d7f6ae007"
      },
      "source": [
        "df['ciphertext'][2]"
      ],
      "execution_count": 20,
      "outputs": [
        {
          "output_type": "execute_result",
          "data": {
            "text/plain": [
              "'From: ece_0028@bigdog.engr.arizona.edu (David Anderson)\\n Subject: Re: Christian Owned Organization list\\n Organization: University of Arizona\\n Lines: 19\\n \\n In article <?a$@byu.edu> $stephan@sasb.byu.edu (Stephan Fassmann) writes:\\n >In article <1993Apr13.025426.22532@mnemosyne.cs.du.edu> kcochran@nyx.'"
            ]
          },
          "metadata": {
            "tags": []
          },
          "execution_count": 20
        }
      ]
    },
    {
      "cell_type": "code",
      "metadata": {
        "id": "hcTVHLcxhinJ",
        "colab_type": "code",
        "colab": {}
      },
      "source": [
        "X_train, X_test, y_train, y_test = train_test_split(df['ciphertext'], df['target'])"
      ],
      "execution_count": 0,
      "outputs": []
    },
    {
      "cell_type": "code",
      "metadata": {
        "id": "fsqe8XLsiCmJ",
        "colab_type": "code",
        "colab": {}
      },
      "source": [
        "#I tried to use CountVectorizer, but for some reason it was REALLY SLOW.\n",
        "vectorizer = TfidfVectorizer(analyzer='char_wb', lowercase=False, ngram_range=(1, 6))\n",
        "X_train_vec = vectorizer.fit_transform(X_train)\n",
        "X_test_vec = vectorizer.transform(X_test)"
      ],
      "execution_count": 0,
      "outputs": []
    },
    {
      "cell_type": "code",
      "metadata": {
        "id": "b4hr0vp_i33c",
        "colab_type": "code",
        "colab": {}
      },
      "source": [
        "clf = LinearSVC()\n",
        "clf.fit(X_train_vec, y_train)"
      ],
      "execution_count": 0,
      "outputs": []
    },
    {
      "cell_type": "code",
      "metadata": {
        "id": "ChkzY79KoteH",
        "colab_type": "code",
        "colab": {}
      },
      "source": [
        "y_pred = clf.predict(X_test_vec)"
      ],
      "execution_count": 0,
      "outputs": []
    },
    {
      "cell_type": "code",
      "metadata": {
        "id": "zOstATu98man",
        "colab_type": "code",
        "colab": {
          "base_uri": "https://localhost:8080/",
          "height": 34
        },
        "outputId": "2a44d5ad-ebeb-482d-975b-374a55e5fa8e"
      },
      "source": [
        "accuracy_score(y_pred, y_test)"
      ],
      "execution_count": 25,
      "outputs": [
        {
          "output_type": "execute_result",
          "data": {
            "text/plain": [
              "0.5270920823517361"
            ]
          },
          "metadata": {
            "tags": []
          },
          "execution_count": 25
        }
      ]
    },
    {
      "cell_type": "code",
      "metadata": {
        "id": "rQqyRIzF8_94",
        "colab_type": "code",
        "colab": {
          "base_uri": "https://localhost:8080/",
          "height": 34
        },
        "outputId": "f328dc00-347f-4cfc-b027-b48d668d4698"
      },
      "source": [
        "f1_score(y_pred, y_test, average='macro')"
      ],
      "execution_count": 26,
      "outputs": [
        {
          "output_type": "execute_result",
          "data": {
            "text/plain": [
              "0.5077063332358638"
            ]
          },
          "metadata": {
            "tags": []
          },
          "execution_count": 26
        }
      ]
    },
    {
      "cell_type": "code",
      "metadata": {
        "id": "bWVyw0Iz9F--",
        "colab_type": "code",
        "colab": {}
      },
      "source": [
        ""
      ],
      "execution_count": 0,
      "outputs": []
    }
  ]
}