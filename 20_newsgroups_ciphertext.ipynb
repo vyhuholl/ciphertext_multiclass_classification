{
  "nbformat": 4,
  "nbformat_minor": 0,
  "metadata": {
    "colab": {
      "name": "20_newsgroups_ciphertext.ipynb",
      "version": "0.3.2",
      "provenance": [],
      "collapsed_sections": []
    },
    "kernelspec": {
      "name": "python3",
      "display_name": "Python 3"
    },
    "accelerator": "GPU"
  },
  "cells": [
    {
      "cell_type": "code",
      "metadata": {
        "id": "BfNUBoIQjHaX",
        "colab_type": "code",
        "colab": {}
      },
      "source": [
        "!pip install -U -q kaggle\n",
        "!mkdir -p ~/.kaggle"
      ],
      "execution_count": 0,
      "outputs": []
    },
    {
      "cell_type": "code",
      "metadata": {
        "id": "aCS09_ikjeuI",
        "colab_type": "code",
        "colab": {}
      },
      "source": [
        "from google.colab import files\n",
        "from IPython.display import clear_output\n",
        "files.upload()\n",
        "clear_output()"
      ],
      "execution_count": 0,
      "outputs": []
    },
    {
      "cell_type": "code",
      "metadata": {
        "id": "H1gLFCm48ooh",
        "colab_type": "code",
        "colab": {}
      },
      "source": [
        "!chmod 600 kaggle.json"
      ],
      "execution_count": 0,
      "outputs": []
    },
    {
      "cell_type": "code",
      "metadata": {
        "id": "Wp5oObGtjmle",
        "colab_type": "code",
        "colab": {}
      },
      "source": [
        "!cp kaggle.json ~/.kaggle/"
      ],
      "execution_count": 0,
      "outputs": []
    },
    {
      "cell_type": "code",
      "metadata": {
        "id": "KGveXEPLjtXR",
        "colab_type": "code",
        "outputId": "b073bc95-8e06-40d3-e6fe-acdb7b1b6e34",
        "colab": {
          "base_uri": "https://localhost:8080/",
          "height": 170
        }
      },
      "source": [
        "!kaggle competitions download -c 20-newsgroups-ciphertext-challenge"
      ],
      "execution_count": 5,
      "outputs": [
        {
          "output_type": "stream",
          "text": [
            "Downloading sample_submission.csv.zip to /content\n",
            "\r  0% 0.00/556k [00:00<?, ?B/s]\n",
            "\r100% 556k/556k [00:00<00:00, 71.2MB/s]\n",
            "Downloading test.csv.zip to /content\n",
            " 31% 5.00M/16.2M [00:00<00:00, 40.9MB/s]\n",
            "100% 16.2M/16.2M [00:00<00:00, 79.2MB/s]\n",
            "Downloading train.csv.zip to /content\n",
            "  0% 0.00/6.98M [00:00<?, ?B/s]\n",
            "100% 6.98M/6.98M [00:00<00:00, 62.9MB/s]\n"
          ],
          "name": "stdout"
        }
      ]
    },
    {
      "cell_type": "code",
      "metadata": {
        "id": "-AJkArNB0Ocf",
        "colab_type": "code",
        "outputId": "4678eaeb-ab0b-499e-8340-b1a04a6a6760",
        "colab": {
          "base_uri": "https://localhost:8080/",
          "height": 85
        }
      },
      "source": [
        "!unzip train.csv.zip\n",
        "!unzip test.csv.zip"
      ],
      "execution_count": 6,
      "outputs": [
        {
          "output_type": "stream",
          "text": [
            "Archive:  train.csv.zip\n",
            "  inflating: train.csv               \n",
            "Archive:  test.csv.zip\n",
            "  inflating: test.csv                \n"
          ],
          "name": "stdout"
        }
      ]
    },
    {
      "cell_type": "markdown",
      "metadata": {
        "id": "jYQFu0RivuYI",
        "colab_type": "text"
      },
      "source": [
        "# Objective\n",
        "Multiclass classification on ciphered texts."
      ]
    },
    {
      "cell_type": "markdown",
      "metadata": {
        "id": "g36ZQrmrwaOA",
        "colab_type": "text"
      },
      "source": [
        "# Data\n",
        "Source: https://www.kaggle.com/c/20-newsgroups-ciphertext-challenge/ </br>\n",
        "and http://qwone.com/~jason/20Newsgroups/ </br>\n",
        "The competition dataset is a well-known dataset often used as a sample set for multiclass classification and NLP. The original dataset contains $\\approx$ 20 000 documents, partitioned (nearly) evenly across 20 different newsgroups. The newsgroups (partitioned according to subject matter) are: </br>\n",
        "\n",
        "*   comp.graphics, comp.os.ms-windows.misc, comp.sys.ibm.pc.hardware, comp.sys.mac.hardware, comp.windows.x\n",
        "*   rec.autos, rec.motorcycles, rec.sport.baseball, rec.sport.hockey\n",
        "*   sci.crypt, sci.electronics, sci.med, sci.space\n",
        "*   talk.politics.misc, talk.politics.guns, talk.politics.mideast\n",
        "*   talk.religion.misc, alt.atheism, soc.religion.christian\n",
        "*   misc.forsale\n",
        "\n",
        "For the competition the dataset was encrypted with up to 4 classis ciphers. Every document in the dataset was broken into sequential 300-character chunks, and all chunks for the document were then encrypted based on its difficulty level. A difficulty of 1 means that only cipher #1 was used. A difficulty of 2 means cipher #1 was applied, followed by cipher #2, and so on. The difficulty level denotes exactly which ciphers were applied, and in what order."
      ]
    },
    {
      "cell_type": "code",
      "metadata": {
        "id": "ww3IYZM7u_Fl",
        "colab_type": "code",
        "colab": {}
      },
      "source": [
        "import pandas as pd\n",
        "import numpy as np\n",
        "% matplotlib inline\n",
        "import matplotlib.pyplot as plt\n",
        "from sklearn.model_selection import train_test_split\n",
        "from sklearn.pipeline import Pipeline\n",
        "from sklearn.feature_extraction.text import TfidfVectorizer\n",
        "from sklearn.model_selection import cross_validate\n",
        "from sklearn.svm import LinearSVC\n",
        "from sklearn.metrics import accuracy_score, f1_score, classification_report, confusion_matrix"
      ],
      "execution_count": 0,
      "outputs": []
    },
    {
      "cell_type": "code",
      "metadata": {
        "id": "iwDE7Yqw0HIz",
        "colab_type": "code",
        "outputId": "97ef47aa-95c7-4eb8-8bd8-9c51602f2fae",
        "colab": {
          "base_uri": "https://localhost:8080/",
          "height": 34
        }
      },
      "source": [
        "df = pd.read_csv(\"train.csv\")\n",
        "print(\"Number of rows in the dataset: \", df.shape[0])"
      ],
      "execution_count": 8,
      "outputs": [
        {
          "output_type": "stream",
          "text": [
            "Number of rows in the dataset:  39052\n"
          ],
          "name": "stdout"
        }
      ]
    },
    {
      "cell_type": "code",
      "metadata": {
        "id": "DDmXjcpG0iv_",
        "colab_type": "code",
        "outputId": "c856b53d-9b13-41df-cc71-010914ac3484",
        "colab": {
          "base_uri": "https://localhost:8080/",
          "height": 204
        }
      },
      "source": [
        "df.head()"
      ],
      "execution_count": 9,
      "outputs": [
        {
          "output_type": "execute_result",
          "data": {
            "text/html": [
              "<div>\n",
              "<style scoped>\n",
              "    .dataframe tbody tr th:only-of-type {\n",
              "        vertical-align: middle;\n",
              "    }\n",
              "\n",
              "    .dataframe tbody tr th {\n",
              "        vertical-align: top;\n",
              "    }\n",
              "\n",
              "    .dataframe thead th {\n",
              "        text-align: right;\n",
              "    }\n",
              "</style>\n",
              "<table border=\"1\" class=\"dataframe\">\n",
              "  <thead>\n",
              "    <tr style=\"text-align: right;\">\n",
              "      <th></th>\n",
              "      <th>Id</th>\n",
              "      <th>difficulty</th>\n",
              "      <th>ciphertext</th>\n",
              "      <th>target</th>\n",
              "    </tr>\n",
              "  </thead>\n",
              "  <tbody>\n",
              "    <tr>\n",
              "      <th>0</th>\n",
              "      <td>ID_88b9bbd73</td>\n",
              "      <td>4</td>\n",
              "      <td>ob|I\u0006\fK?zzhX*L{83B3Z,\u0006FuL*Pusm$83L\\t@r$$*38,8s...</td>\n",
              "      <td>10</td>\n",
              "    </tr>\n",
              "    <tr>\n",
              "      <th>1</th>\n",
              "      <td>ID_f489bd59f</td>\n",
              "      <td>1</td>\n",
              "      <td>c1|FaAO120O'8o\u0002vfoy1W#at\u001bvGs1[1s1[1/1]O-a8o1-\u001b...</td>\n",
              "      <td>13</td>\n",
              "    </tr>\n",
              "    <tr>\n",
              "      <th>2</th>\n",
              "      <td>ID_f90fee9c7</td>\n",
              "      <td>2</td>\n",
              "      <td>1*e4N8$f$0ccOui\u0018hkHek\u001a$\u0010k*\u001aV*hoe\u0010V\u001a$Hj8\bV\u0003hH8...</td>\n",
              "      <td>19</td>\n",
              "    </tr>\n",
              "    <tr>\n",
              "      <th>3</th>\n",
              "      <td>ID_8303ced65</td>\n",
              "      <td>1</td>\n",
              "      <td>O8v^10\u001bO#to1'#^'^\u0002\u001b\u0002tv1^]s111t0\u001b1O\u0002taq&gt;\u001b-ata_1...</td>\n",
              "      <td>17</td>\n",
              "    </tr>\n",
              "    <tr>\n",
              "      <th>4</th>\n",
              "      <td>ID_72abc2cb7</td>\n",
              "      <td>2</td>\n",
              "      <td>e\u001aV}H\u001a}kh\u001afe4b8'S.Vc}{A\f\f.#VikV.\u001afV?{$f7\u001a$Hjb8...</td>\n",
              "      <td>0</td>\n",
              "    </tr>\n",
              "  </tbody>\n",
              "</table>\n",
              "</div>"
            ],
            "text/plain": [
              "             Id  ...  target\n",
              "0  ID_88b9bbd73  ...      10\n",
              "1  ID_f489bd59f  ...      13\n",
              "2  ID_f90fee9c7  ...      19\n",
              "3  ID_8303ced65  ...      17\n",
              "4  ID_72abc2cb7  ...       0\n",
              "\n",
              "[5 rows x 4 columns]"
            ]
          },
          "metadata": {
            "tags": []
          },
          "execution_count": 9
        }
      ]
    },
    {
      "cell_type": "markdown",
      "metadata": {
        "id": "CIIjpzm3V_sp",
        "colab_type": "text"
      },
      "source": [
        "#Deciphering simple ciphers"
      ]
    },
    {
      "cell_type": "markdown",
      "metadata": {
        "id": "PSgAN5CJ9zm5",
        "colab_type": "text"
      },
      "source": [
        "Now here is the trick: looking up kernels for this dataset on Kaggle, I found out that a user named Flal already cracked cipher #1 and cipher #2 (which were simple [substitution ciphers](https://en.wikipedia.org/wiki/Substitution_cipher), decipherable by manually mapping symbol frequences). Cipher #3 (and therefore cipher #4) wasn't decipherable this way.</br>\n",
        "Here is Flal's notebook with cipher #1 and cipher #2 full solutions: </br>\n",
        "https://www.kaggle.com/leflal/cipher-1-cipher-2-full-solutions </br>\n",
        "I decided to use this solution to ease the problem."
      ]
    },
    {
      "cell_type": "code",
      "metadata": {
        "id": "UE2wE1KIDcMi",
        "colab_type": "code",
        "outputId": "3ee908be-b6ae-45bf-b90f-bcab3f1b4853",
        "colab": {
          "base_uri": "https://localhost:8080/",
          "height": 377
        }
      },
      "source": [
        "!wget https://www.dropbox.com/s/mtmfzdkgt0oavrm/cipher1_map.csv?dl=0 -O cipher1_map.csv"
      ],
      "execution_count": 10,
      "outputs": [
        {
          "output_type": "stream",
          "text": [
            "--2019-06-20 19:05:19--  https://www.dropbox.com/s/mtmfzdkgt0oavrm/cipher1_map.csv?dl=0\n",
            "Resolving www.dropbox.com (www.dropbox.com)... 162.125.8.1, 2620:100:6031:1::a27d:5101\n",
            "Connecting to www.dropbox.com (www.dropbox.com)|162.125.8.1|:443... connected.\n",
            "HTTP request sent, awaiting response... 301 Moved Permanently\n",
            "Location: /s/raw/mtmfzdkgt0oavrm/cipher1_map.csv [following]\n",
            "--2019-06-20 19:05:19--  https://www.dropbox.com/s/raw/mtmfzdkgt0oavrm/cipher1_map.csv\n",
            "Reusing existing connection to www.dropbox.com:443.\n",
            "HTTP request sent, awaiting response... 302 Found\n",
            "Location: https://uca0d4fa94188089dd498217b124.dl.dropboxusercontent.com/cd/0/inline/AjNeMdaOl9oElazslvs4OCk-mT8ekhrGrSMgiAFpbrAXHNjZc1D6AWbetHaw_wE5VyqQtLf7ALtojUukn8yYD4SN-OU8jU8xqPp3510hl8Z7dA/file# [following]\n",
            "--2019-06-20 19:05:20--  https://uca0d4fa94188089dd498217b124.dl.dropboxusercontent.com/cd/0/inline/AjNeMdaOl9oElazslvs4OCk-mT8ekhrGrSMgiAFpbrAXHNjZc1D6AWbetHaw_wE5VyqQtLf7ALtojUukn8yYD4SN-OU8jU8xqPp3510hl8Z7dA/file\n",
            "Resolving uca0d4fa94188089dd498217b124.dl.dropboxusercontent.com (uca0d4fa94188089dd498217b124.dl.dropboxusercontent.com)... 162.125.9.6, 2620:100:601b:6::a27d:806\n",
            "Connecting to uca0d4fa94188089dd498217b124.dl.dropboxusercontent.com (uca0d4fa94188089dd498217b124.dl.dropboxusercontent.com)|162.125.9.6|:443... connected.\n",
            "HTTP request sent, awaiting response... 200 OK\n",
            "Length: 433 [text/plain]\n",
            "Saving to: ‘cipher1_map.csv’\n",
            "\n",
            "cipher1_map.csv     100%[===================>]     433  --.-KB/s    in 0s      \n",
            "\n",
            "2019-06-20 19:05:20 (64.2 MB/s) - ‘cipher1_map.csv’ saved [433/433]\n",
            "\n"
          ],
          "name": "stdout"
        }
      ]
    },
    {
      "cell_type": "code",
      "metadata": {
        "id": "BcSEJufADi4u",
        "colab_type": "code",
        "outputId": "cdb599ad-83bf-4fb4-c5df-3473c7fde333",
        "colab": {
          "base_uri": "https://localhost:8080/",
          "height": 377
        }
      },
      "source": [
        "!wget https://www.dropbox.com/s/o83vocsvtve9q0g/cipher2_map.csv?dl=0 -O cipher2_map.csv"
      ],
      "execution_count": 11,
      "outputs": [
        {
          "output_type": "stream",
          "text": [
            "--2019-06-20 19:05:21--  https://www.dropbox.com/s/o83vocsvtve9q0g/cipher2_map.csv?dl=0\n",
            "Resolving www.dropbox.com (www.dropbox.com)... 162.125.8.1, 2620:100:6031:1::a27d:5101\n",
            "Connecting to www.dropbox.com (www.dropbox.com)|162.125.8.1|:443... connected.\n",
            "HTTP request sent, awaiting response... 301 Moved Permanently\n",
            "Location: /s/raw/o83vocsvtve9q0g/cipher2_map.csv [following]\n",
            "--2019-06-20 19:05:21--  https://www.dropbox.com/s/raw/o83vocsvtve9q0g/cipher2_map.csv\n",
            "Reusing existing connection to www.dropbox.com:443.\n",
            "HTTP request sent, awaiting response... 302 Found\n",
            "Location: https://uc6004bb5c9370f88cfba73ddea2.dl.dropboxusercontent.com/cd/0/inline/AjPjOMBAOcHIldwegiBSeHM3PtS8F0LT0lMSoXa2D7btJ--mYlaUcd8kF8N0wNa4a4L4MR0tGfvT2K-Mrrm5Y97JfKExIOjjGUBPW7TjZ0wy9w/file# [following]\n",
            "--2019-06-20 19:05:21--  https://uc6004bb5c9370f88cfba73ddea2.dl.dropboxusercontent.com/cd/0/inline/AjPjOMBAOcHIldwegiBSeHM3PtS8F0LT0lMSoXa2D7btJ--mYlaUcd8kF8N0wNa4a4L4MR0tGfvT2K-Mrrm5Y97JfKExIOjjGUBPW7TjZ0wy9w/file\n",
            "Resolving uc6004bb5c9370f88cfba73ddea2.dl.dropboxusercontent.com (uc6004bb5c9370f88cfba73ddea2.dl.dropboxusercontent.com)... 162.125.9.6, 2620:100:601f:6::a27d:906\n",
            "Connecting to uc6004bb5c9370f88cfba73ddea2.dl.dropboxusercontent.com (uc6004bb5c9370f88cfba73ddea2.dl.dropboxusercontent.com)|162.125.9.6|:443... connected.\n",
            "HTTP request sent, awaiting response... 200 OK\n",
            "Length: 455 [text/plain]\n",
            "Saving to: ‘cipher2_map.csv’\n",
            "\n",
            "cipher2_map.csv     100%[===================>]     455  --.-KB/s    in 0s      \n",
            "\n",
            "2019-06-20 19:05:22 (63.2 MB/s) - ‘cipher2_map.csv’ saved [455/455]\n",
            "\n"
          ],
          "name": "stdout"
        }
      ]
    },
    {
      "cell_type": "code",
      "metadata": {
        "id": "6kLp_W9z9Ud5",
        "colab_type": "code",
        "colab": {}
      },
      "source": [
        "cipher_1_map = pd.read_csv('cipher1_map.csv')\n",
        "cipher_2_map = pd.read_csv('cipher2_map.csv')\n",
        "#Note: the second mapping maps plain text to text encrypted with 2 difficulty level, skipping cipher #1 stage.\n",
        "\n",
        "cipher = {1: {}, 2: {}}\n",
        "\n",
        "for index, row in cipher_1_map.iterrows():\n",
        "    cipher[1][row['cipher']] = row['plain']\n",
        "\n",
        "for index, row in cipher_2_map.iterrows():\n",
        "    cipher[2][row['cipher']] = row['plain']"
      ],
      "execution_count": 0,
      "outputs": []
    },
    {
      "cell_type": "code",
      "metadata": {
        "id": "pgJabp2cEwPj",
        "colab_type": "code",
        "outputId": "8968bf25-8496-4b45-b10d-45de70e31d77",
        "colab": {
          "base_uri": "https://localhost:8080/",
          "height": 1751
        }
      },
      "source": [
        "cipher[1]"
      ],
      "execution_count": 13,
      "outputs": [
        {
          "output_type": "execute_result",
          "data": {
            "text/plain": [
              "{'\\x02': 'n',\n",
              " '\\x03': 'b',\n",
              " '\\x06': '7',\n",
              " '\\x08': '.',\n",
              " '\\t': '5',\n",
              " '\\x0c': '%',\n",
              " '\\x10': 'Y',\n",
              " '\\x18': 'V',\n",
              " '\\x1a': 'q',\n",
              " '\\x1b': 'e',\n",
              " '\\x1c': '*',\n",
              " '\\x1e': 'R',\n",
              " ' ': '<',\n",
              " '!': 'X',\n",
              " '\"': 'G',\n",
              " '#': 'r',\n",
              " '$': '\\x02',\n",
              " '%': 'O',\n",
              " '&': '?',\n",
              " \"'\": 'p',\n",
              " '(': '^',\n",
              " ')': '_',\n",
              " '*': 'F',\n",
              " '+': 'x',\n",
              " ',': '4',\n",
              " '-': 'm',\n",
              " '.': '~',\n",
              " '/': 'A',\n",
              " '0': 'h',\n",
              " '1': ' ',\n",
              " '2': 'C',\n",
              " '3': ';',\n",
              " '4': '|',\n",
              " '5': '6',\n",
              " '6': '\"',\n",
              " '8': 'l',\n",
              " '9': 'P',\n",
              " ':': 'I',\n",
              " ';': \"'\",\n",
              " '<': '9',\n",
              " '=': '\\x10',\n",
              " '>': 'S',\n",
              " '?': '/',\n",
              " '@': 'U',\n",
              " 'A': 'd',\n",
              " 'B': '$',\n",
              " 'D': '\\x0c',\n",
              " 'E': 'E',\n",
              " 'F': 'L',\n",
              " 'G': ':',\n",
              " 'H': '2',\n",
              " 'I': '}',\n",
              " 'J': 'B',\n",
              " 'K': 'Z',\n",
              " 'L': '1',\n",
              " 'O': 'a',\n",
              " 'P': '!',\n",
              " 'Q': '\\t',\n",
              " 'S': '\\x08',\n",
              " 'T': ',',\n",
              " 'U': '[',\n",
              " 'V': 'Q',\n",
              " 'W': 'w',\n",
              " 'X': 'j',\n",
              " 'Y': '`',\n",
              " 'Z': '=',\n",
              " '[': '>',\n",
              " '\\\\': '0',\n",
              " ']': 'f',\n",
              " '^': 'o',\n",
              " '_': 'c',\n",
              " '`': '#',\n",
              " 'a': 'i',\n",
              " 'b': '@',\n",
              " 'c': 'u',\n",
              " 'd': 'g',\n",
              " 'e': 'M',\n",
              " 'f': 'k',\n",
              " 'g': 'H',\n",
              " 'h': 'z',\n",
              " 'i': ']',\n",
              " 'k': '{',\n",
              " 'l': 'W',\n",
              " 'm': '\\\\',\n",
              " 'n': '8',\n",
              " 'o': 'y',\n",
              " 'p': '\\x1e',\n",
              " 'q': '-',\n",
              " 'r': '&',\n",
              " 's': '\\n',\n",
              " 't': 't',\n",
              " 'u': '3',\n",
              " 'v': 's',\n",
              " 'w': 'K',\n",
              " 'x': 'D',\n",
              " 'y': ')',\n",
              " 'z': 'v',\n",
              " '{': 'T',\n",
              " '|': '(',\n",
              " '}': 'J',\n",
              " '~': '+',\n",
              " '\\x7f': 'N'}"
            ]
          },
          "metadata": {
            "tags": []
          },
          "execution_count": 13
        }
      ]
    },
    {
      "cell_type": "code",
      "metadata": {
        "id": "_yUNoyIEE8JK",
        "colab_type": "code",
        "outputId": "ed70923a-2fe8-40bd-e27b-5ceee3363bc6",
        "colab": {
          "base_uri": "https://localhost:8080/",
          "height": 1836
        }
      },
      "source": [
        "cipher[2]"
      ],
      "execution_count": 14,
      "outputs": [
        {
          "output_type": "execute_result",
          "data": {
            "text/plain": [
              "{'\\x02': ')',\n",
              " '\\x03': 'v',\n",
              " '\\x06': 'T',\n",
              " '\\x08': '(',\n",
              " '\\t': 'J',\n",
              " '\\n': '+',\n",
              " '\\x0c': 'N',\n",
              " '\\x10': 'n',\n",
              " '\\x18': 'b',\n",
              " '\\x19': '7',\n",
              " '\\x1a': '.',\n",
              " '\\x1b': '5',\n",
              " '\\x1c': '\\x19',\n",
              " '\\x1e': '%',\n",
              " ' ': 'Y',\n",
              " '!': 'V',\n",
              " '\"': '\\x1b',\n",
              " '#': 'q',\n",
              " '$': 'e',\n",
              " '%': '*',\n",
              " '&': 'R',\n",
              " \"'\": '<',\n",
              " '(': 'X',\n",
              " ')': 'G',\n",
              " '*': 'r',\n",
              " '+': '\\x02',\n",
              " ',': 'O',\n",
              " '-': '?',\n",
              " '.': 'p',\n",
              " '/': '^',\n",
              " '0': '_',\n",
              " '1': 'F',\n",
              " '2': 'x',\n",
              " '3': '4',\n",
              " '4': 'm',\n",
              " '5': '~',\n",
              " '6': 'A',\n",
              " '7': 'h',\n",
              " '8': ' ',\n",
              " '9': 'C',\n",
              " ':': ';',\n",
              " ';': '|',\n",
              " '<': '6',\n",
              " '=': '\"',\n",
              " '>': '\\x03',\n",
              " '?': 'l',\n",
              " '@': 'P',\n",
              " 'A': 'I',\n",
              " 'B': \"'\",\n",
              " 'C': '9',\n",
              " 'E': 'S',\n",
              " 'F': '/',\n",
              " 'G': 'U',\n",
              " 'H': 'd',\n",
              " 'I': '$',\n",
              " 'J': '\\x1a',\n",
              " 'K': '\\x0c',\n",
              " 'L': 'E',\n",
              " 'M': 'L',\n",
              " 'N': ':',\n",
              " 'O': '2',\n",
              " 'P': '}',\n",
              " 'Q': 'B',\n",
              " 'R': 'Z',\n",
              " 'S': '1',\n",
              " 'T': '\\x7f',\n",
              " 'V': 'a',\n",
              " 'W': '!',\n",
              " 'X': '\\t',\n",
              " 'Y': '\\x06',\n",
              " 'Z': '\\x08',\n",
              " '[': ',',\n",
              " '\\\\': '[',\n",
              " ']': 'Q',\n",
              " '^': 'w',\n",
              " '_': 'j',\n",
              " '`': '`',\n",
              " 'a': '=',\n",
              " 'b': '>',\n",
              " 'c': '0',\n",
              " 'd': 'f',\n",
              " 'e': 'o',\n",
              " 'f': 'c',\n",
              " 'g': '#',\n",
              " 'h': 'i',\n",
              " 'i': '@',\n",
              " 'j': 'u',\n",
              " 'k': 'g',\n",
              " 'l': 'M',\n",
              " 'm': 'k',\n",
              " 'n': 'H',\n",
              " 'o': 'z',\n",
              " 'p': ']',\n",
              " 'q': '\\x18',\n",
              " 'r': '{',\n",
              " 's': 'W',\n",
              " 't': '\\\\',\n",
              " 'u': '8',\n",
              " 'v': 'y',\n",
              " 'x': '-',\n",
              " 'y': '&',\n",
              " 'z': '\\n',\n",
              " '{': 't',\n",
              " '|': '3',\n",
              " '}': 's',\n",
              " '~': 'K',\n",
              " '\\x7f': 'D'}"
            ]
          },
          "metadata": {
            "tags": []
          },
          "execution_count": 14
        }
      ]
    },
    {
      "cell_type": "code",
      "metadata": {
        "id": "kQvAECDCFGp6",
        "colab_type": "code",
        "colab": {}
      },
      "source": [
        "#decrypting texts with difficulty levels 1 and 2\n",
        "\n",
        "def decipher(text, cipher):\n",
        "    result = ''\n",
        "    for i in range(len(text)):\n",
        "        result += cipher[text[i]]\n",
        "    return result\n",
        "\n",
        "for i in range(len(df)):\n",
        "    if df['difficulty'][i] == 1 or df['difficulty'][i] == 2:\n",
        "        df['ciphertext'][i] = decipher(df['ciphertext'][i], cipher[df['difficulty'][i]])\n",
        "    print(f\"Decrypted {i + 1} texts.\")\n",
        "    clear_output()"
      ],
      "execution_count": 0,
      "outputs": []
    },
    {
      "cell_type": "code",
      "metadata": {
        "id": "uJluLUlIJlTe",
        "colab_type": "code",
        "colab": {
          "base_uri": "https://localhost:8080/",
          "height": 204
        },
        "outputId": "906d74bb-705e-42de-a763-48a4e928c3be"
      },
      "source": [
        "df.head() #it works!"
      ],
      "execution_count": 16,
      "outputs": [
        {
          "output_type": "execute_result",
          "data": {
            "text/html": [
              "<div>\n",
              "<style scoped>\n",
              "    .dataframe tbody tr th:only-of-type {\n",
              "        vertical-align: middle;\n",
              "    }\n",
              "\n",
              "    .dataframe tbody tr th {\n",
              "        vertical-align: top;\n",
              "    }\n",
              "\n",
              "    .dataframe thead th {\n",
              "        text-align: right;\n",
              "    }\n",
              "</style>\n",
              "<table border=\"1\" class=\"dataframe\">\n",
              "  <thead>\n",
              "    <tr style=\"text-align: right;\">\n",
              "      <th></th>\n",
              "      <th>Id</th>\n",
              "      <th>difficulty</th>\n",
              "      <th>ciphertext</th>\n",
              "      <th>target</th>\n",
              "    </tr>\n",
              "  </thead>\n",
              "  <tbody>\n",
              "    <tr>\n",
              "      <th>0</th>\n",
              "      <td>ID_88b9bbd73</td>\n",
              "      <td>4</td>\n",
              "      <td>ob|I\u0006\fK?zzhX*L{83B3Z,\u0006FuL*Pusm$83L\\t@r$$*38,8s...</td>\n",
              "      <td>10</td>\n",
              "    </tr>\n",
              "    <tr>\n",
              "      <th>1</th>\n",
              "      <td>ID_f489bd59f</td>\n",
              "      <td>1</td>\n",
              "      <td>u (Lida Chaplynsky) writes:\\n &gt; \\n &gt; A family ...</td>\n",
              "      <td>13</td>\n",
              "    </tr>\n",
              "    <tr>\n",
              "      <th>2</th>\n",
              "      <td>ID_f90fee9c7</td>\n",
              "      <td>2</td>\n",
              "      <td>From: ece_0028@bigdog.engr.arizona.edu (David ...</td>\n",
              "      <td>19</td>\n",
              "    </tr>\n",
              "    <tr>\n",
              "      <th>3</th>\n",
              "      <td>ID_8303ced65</td>\n",
              "      <td>1</td>\n",
              "      <td>also hearty proponents of\\n   the anti-Semitic...</td>\n",
              "      <td>17</td>\n",
              "    </tr>\n",
              "    <tr>\n",
              "      <th>4</th>\n",
              "      <td>ID_72abc2cb7</td>\n",
              "      <td>2</td>\n",
              "      <td>o.asd.sgi.com&gt; &lt;1pa0stINNpqa@gap.caltech.edu&gt; ...</td>\n",
              "      <td>0</td>\n",
              "    </tr>\n",
              "  </tbody>\n",
              "</table>\n",
              "</div>"
            ],
            "text/plain": [
              "             Id  ...  target\n",
              "0  ID_88b9bbd73  ...      10\n",
              "1  ID_f489bd59f  ...      13\n",
              "2  ID_f90fee9c7  ...      19\n",
              "3  ID_8303ced65  ...      17\n",
              "4  ID_72abc2cb7  ...       0\n",
              "\n",
              "[5 rows x 4 columns]"
            ]
          },
          "metadata": {
            "tags": []
          },
          "execution_count": 16
        }
      ]
    },
    {
      "cell_type": "code",
      "metadata": {
        "id": "mjCZm9WvVUTV",
        "colab_type": "code",
        "colab": {}
      },
      "source": [
        "df.to_csv(\"train_decrypted.csv\") #saving and downloading locally just in case\n",
        "files.download(\"train_decrypted.csv\")"
      ],
      "execution_count": 0,
      "outputs": []
    },
    {
      "cell_type": "code",
      "metadata": {
        "id": "QKrGSscygoFk",
        "colab_type": "code",
        "outputId": "1c2636ea-7cb7-4851-c4b5-673a17762a98",
        "colab": {
          "base_uri": "https://localhost:8080/",
          "height": 74
        }
      },
      "source": [
        "df['ciphertext'][1]"
      ],
      "execution_count": 0,
      "outputs": [
        {
          "output_type": "execute_result",
          "data": {
            "text/plain": [
              "'u (Lida Chaplynsky) writes:\\n > \\n > A family member of mine is suffering from a severe depression brought on\\n > by menopause as well as a mental break down.  She is being treated with\\n > Halydol with some success but the treatments being provided through her\\n > psychiatrist are not satisfactory.  Som'"
            ]
          },
          "metadata": {
            "tags": []
          },
          "execution_count": 18
        }
      ]
    },
    {
      "cell_type": "code",
      "metadata": {
        "id": "8xdVRe0zhfvw",
        "colab_type": "code",
        "outputId": "f7f9981c-abff-4004-9d2f-43d327909268",
        "colab": {
          "base_uri": "https://localhost:8080/",
          "height": 74
        }
      },
      "source": [
        "df['ciphertext'][2]"
      ],
      "execution_count": 0,
      "outputs": [
        {
          "output_type": "execute_result",
          "data": {
            "text/plain": [
              "'From: ece_0028@bigdog.engr.arizona.edu (David Anderson)\\n Subject: Re: Christian Owned Organization list\\n Organization: University of Arizona\\n Lines: 19\\n \\n In article <?a$@byu.edu> $stephan@sasb.byu.edu (Stephan Fassmann) writes:\\n >In article <1993Apr13.025426.22532@mnemosyne.cs.du.edu> kcochran@nyx.'"
            ]
          },
          "metadata": {
            "tags": []
          },
          "execution_count": 19
        }
      ]
    },
    {
      "cell_type": "markdown",
      "metadata": {
        "id": "V-t844eUWKor",
        "colab_type": "text"
      },
      "source": [
        "#Vectorization, classifier training and cross-validation"
      ]
    },
    {
      "cell_type": "code",
      "metadata": {
        "id": "hcTVHLcxhinJ",
        "colab_type": "code",
        "colab": {}
      },
      "source": [
        "X_train, X_test, y_train, y_test = train_test_split(df.drop(['Id', 'target'], axis=1), df['target'])\n",
        "X_train = X_train.reset_index(drop=True)\n",
        "X_test = X_test.reset_index(drop=True)"
      ],
      "execution_count": 0,
      "outputs": []
    },
    {
      "cell_type": "markdown",
      "metadata": {
        "id": "D_uHspnSCrV7",
        "colab_type": "text"
      },
      "source": [
        "For this problem, TfIdfVectorizer is better than CountVectorizer. Our dataset is a mix of encrypted and plain texts, and since plain texts, texts with difficulty level 3 and texts with difficulty level 4 all have different symbol frequencies distribution, count of a symbol in all dataset obviously isn't a good measure. TfIdfVectorizer is better, since tf-idf value measures how important a symbol is to this specific document. </br>\n",
        "Dimensionality reduction on text vectors was proven to make a classifier perform worse (accuracy score 0.11031445252483868, macro f1 score 0.02124415833546395), so no dimensionality reduction was performed."
      ]
    },
    {
      "cell_type": "markdown",
      "metadata": {
        "id": "Mrgi8L8gHSP6",
        "colab_type": "text"
      },
      "source": [
        "LinearSVC was proven to perform best at the original undecrypted 20 Newgroups dataset (https://acardocacho.github.io/capstone/)."
      ]
    },
    {
      "cell_type": "code",
      "metadata": {
        "id": "b4hr0vp_i33c",
        "colab_type": "code",
        "colab": {}
      },
      "source": [
        "vect = TfidfVectorizer(analyzer='char_wb', lowercase=False, ngram_range=(1, 6))\n",
        "clf = LinearSVC()\n",
        "vect.fit(list(df['ciphertext']))\n",
        "X_train_vec = vect.transform(X_train)\n",
        "X_test_vec = vect.transform(X_test)\n",
        "scores = cross_validate(clf, X_train_vec, y_train, scoring=['accuracy', 'f1_macro'], cv=5, return_train_score=True, return_estimator=True)"
      ],
      "execution_count": 0,
      "outputs": []
    },
    {
      "cell_type": "code",
      "metadata": {
        "id": "tFBp3zs9g3P3",
        "colab_type": "code",
        "outputId": "f0bc5460-bdbf-440a-fb0c-c80a8b09909e",
        "colab": {
          "base_uri": "https://localhost:8080/",
          "height": 187
        }
      },
      "source": [
        "for i in range(5):\n",
        "    print(f\"Split: {i}, train accuracy: {scores['train_accuracy'][i]}, train F1: {scores['train_f1_macro'][i]},\\n test accuracy: {scores['test_accuracy'][i]}, test F1: {scores['test_f1_macro'][i]}.\")"
      ],
      "execution_count": 0,
      "outputs": [
        {
          "output_type": "stream",
          "text": [
            "Split: 0, train accuracy: 0.9882584005806755, train F1: 0.9876443094584729,\n",
            " test accuracy: 0.5071574642126789, test F1: 0.48730203254801374.\n",
            "Split: 1, train accuracy: 0.988346779357152, train F1: 0.9876398981650564,\n",
            " test accuracy: 0.5146707608324804, test F1: 0.4974644677288125.\n",
            "Split: 2, train accuracy: 0.9886048397422218, train F1: 0.9880555547836576,\n",
            " test accuracy: 0.5131444178900648, test F1: 0.4913497607741813.\n",
            "Split: 3, train accuracy: 0.988224251215974, train F1: 0.9874781383627107,\n",
            " test accuracy: 0.5026491198085797, test F1: 0.48102115077566554.\n",
            "Split: 4, train accuracy: 0.9878407781901958, train F1: 0.9872097871859193,\n",
            " test accuracy: 0.5116239316239316, test F1: 0.4898475545031541.\n"
          ],
          "name": "stdout"
        }
      ]
    },
    {
      "cell_type": "code",
      "metadata": {
        "id": "_gdnY2hdQV6g",
        "colab_type": "code",
        "colab": {}
      },
      "source": [
        "clf = scores['estimator'][4]"
      ],
      "execution_count": 0,
      "outputs": []
    },
    {
      "cell_type": "code",
      "metadata": {
        "id": "ChkzY79KoteH",
        "colab_type": "code",
        "colab": {}
      },
      "source": [
        "y_pred = clf.predict(X_test_vec)"
      ],
      "execution_count": 0,
      "outputs": []
    },
    {
      "cell_type": "code",
      "metadata": {
        "id": "zOstATu98man",
        "colab_type": "code",
        "outputId": "7fad0e16-e71c-4b6d-b762-d240e6b65139",
        "colab": {
          "base_uri": "https://localhost:8080/",
          "height": 34
        }
      },
      "source": [
        "accuracy_score(y_pred, y_test)"
      ],
      "execution_count": 0,
      "outputs": [
        {
          "output_type": "execute_result",
          "data": {
            "text/plain": [
              "0.5216634231281368"
            ]
          },
          "metadata": {
            "tags": []
          },
          "execution_count": 27
        }
      ]
    },
    {
      "cell_type": "code",
      "metadata": {
        "id": "rQqyRIzF8_94",
        "colab_type": "code",
        "outputId": "671c977b-ad5c-4e85-9454-31de59d3687d",
        "colab": {
          "base_uri": "https://localhost:8080/",
          "height": 34
        }
      },
      "source": [
        "f1_score(y_pred, y_test, average='macro')"
      ],
      "execution_count": 0,
      "outputs": [
        {
          "output_type": "execute_result",
          "data": {
            "text/plain": [
              "0.5039209266390035"
            ]
          },
          "metadata": {
            "tags": []
          },
          "execution_count": 28
        }
      ]
    },
    {
      "cell_type": "markdown",
      "metadata": {
        "id": "mMl6CBHWByDW",
        "colab_type": "text"
      },
      "source": [
        "Cross-validation doesn't appear to improve scores."
      ]
    },
    {
      "cell_type": "markdown",
      "metadata": {
        "id": "YBwCMsXKWg5B",
        "colab_type": "text"
      },
      "source": [
        "#Training 2 different pipelines – one for decrypted texts and one for encrypted"
      ]
    },
    {
      "cell_type": "markdown",
      "metadata": {
        "id": "01BEEGMa0uau",
        "colab_type": "text"
      },
      "source": [
        "Solution: train 2 different pipelines – one on decrypted (difficulty 1 or 2) texts and one on encrypted (difficulty 3 and 4) texts. To predict a label for a text with difficulty n, use the corresponding pipeline."
      ]
    },
    {
      "cell_type": "code",
      "metadata": {
        "id": "bWVyw0Iz9F--",
        "colab_type": "code",
        "colab": {}
      },
      "source": [
        "vect_decrypt = TfidfVectorizer(analyzer='word', lowercase=False, ngram_range=(1, 6))\n",
        "vect_encrypt = TfidfVectorizer(analyzer='char', lowercase=False, ngram_range=(1, 6))\n",
        "clf_decrypt = LinearSVC()\n",
        "clf_encrypt = LinearSVC()\n",
        "pipeline_decrypt = Pipeline([('vect', vect_decrypt), ('clf', clf_decrypt)])\n",
        "pipeline_encrypt = Pipeline([('vect', vect_encrypt), ('clf', clf_encrypt)])\n",
        "\n",
        "df_diff1 = df[df['difficulty'] == 1]\n",
        "df_diff2 = df[df['difficulty'] == 2]\n",
        "df_decrypt = pd.concat([df_diff1, df_diff2])\n",
        "df_diff3 = df[df['difficulty'] == 3]\n",
        "df_diff4 = df[df['difficulty'] == 4]\n",
        "df_encrypt = pd.concat([df_diff3, df_diff4])"
      ],
      "execution_count": 0,
      "outputs": []
    },
    {
      "cell_type": "code",
      "metadata": {
        "id": "jRB1_zd01inI",
        "colab_type": "code",
        "outputId": "1ff42cd4-5433-4921-b234-d0671ef2dff9",
        "colab": {
          "base_uri": "https://localhost:8080/",
          "height": 204
        }
      },
      "source": [
        "df_decrypt.head()"
      ],
      "execution_count": 20,
      "outputs": [
        {
          "output_type": "execute_result",
          "data": {
            "text/html": [
              "<div>\n",
              "<style scoped>\n",
              "    .dataframe tbody tr th:only-of-type {\n",
              "        vertical-align: middle;\n",
              "    }\n",
              "\n",
              "    .dataframe tbody tr th {\n",
              "        vertical-align: top;\n",
              "    }\n",
              "\n",
              "    .dataframe thead th {\n",
              "        text-align: right;\n",
              "    }\n",
              "</style>\n",
              "<table border=\"1\" class=\"dataframe\">\n",
              "  <thead>\n",
              "    <tr style=\"text-align: right;\">\n",
              "      <th></th>\n",
              "      <th>Id</th>\n",
              "      <th>difficulty</th>\n",
              "      <th>ciphertext</th>\n",
              "      <th>target</th>\n",
              "    </tr>\n",
              "  </thead>\n",
              "  <tbody>\n",
              "    <tr>\n",
              "      <th>1</th>\n",
              "      <td>ID_f489bd59f</td>\n",
              "      <td>1</td>\n",
              "      <td>u (Lida Chaplynsky) writes:\\n &gt; \\n &gt; A family ...</td>\n",
              "      <td>13</td>\n",
              "    </tr>\n",
              "    <tr>\n",
              "      <th>3</th>\n",
              "      <td>ID_8303ced65</td>\n",
              "      <td>1</td>\n",
              "      <td>also hearty proponents of\\n   the anti-Semitic...</td>\n",
              "      <td>17</td>\n",
              "    </tr>\n",
              "    <tr>\n",
              "      <th>13</th>\n",
              "      <td>ID_850984d77</td>\n",
              "      <td>1</td>\n",
              "      <td>From: cramer@optilink.COM (Clayton Cramer)\\n S...</td>\n",
              "      <td>18</td>\n",
              "    </tr>\n",
              "    <tr>\n",
              "      <th>15</th>\n",
              "      <td>ID_f61f4e2ab</td>\n",
              "      <td>1</td>\n",
              "      <td>From: 02106@ravel.udel.edu (Samuel Ross)\\n Sub...</td>\n",
              "      <td>6</td>\n",
              "    </tr>\n",
              "    <tr>\n",
              "      <th>16</th>\n",
              "      <td>ID_d87237dcc</td>\n",
              "      <td>1</td>\n",
              "      <td>defenseman. Yes, he made rookie\\n mistakes, b...</td>\n",
              "      <td>10</td>\n",
              "    </tr>\n",
              "  </tbody>\n",
              "</table>\n",
              "</div>"
            ],
            "text/plain": [
              "              Id  ...  target\n",
              "1   ID_f489bd59f  ...      13\n",
              "3   ID_8303ced65  ...      17\n",
              "13  ID_850984d77  ...      18\n",
              "15  ID_f61f4e2ab  ...       6\n",
              "16  ID_d87237dcc  ...      10\n",
              "\n",
              "[5 rows x 4 columns]"
            ]
          },
          "metadata": {
            "tags": []
          },
          "execution_count": 20
        }
      ]
    },
    {
      "cell_type": "code",
      "metadata": {
        "id": "-APS4Pwq2G64",
        "colab_type": "code",
        "outputId": "ba0794e4-9025-4c6a-e091-f3ad2e8fb182",
        "colab": {
          "base_uri": "https://localhost:8080/",
          "height": 204
        }
      },
      "source": [
        "df_encrypt.head()"
      ],
      "execution_count": 21,
      "outputs": [
        {
          "output_type": "execute_result",
          "data": {
            "text/html": [
              "<div>\n",
              "<style scoped>\n",
              "    .dataframe tbody tr th:only-of-type {\n",
              "        vertical-align: middle;\n",
              "    }\n",
              "\n",
              "    .dataframe tbody tr th {\n",
              "        vertical-align: top;\n",
              "    }\n",
              "\n",
              "    .dataframe thead th {\n",
              "        text-align: right;\n",
              "    }\n",
              "</style>\n",
              "<table border=\"1\" class=\"dataframe\">\n",
              "  <thead>\n",
              "    <tr style=\"text-align: right;\">\n",
              "      <th></th>\n",
              "      <th>Id</th>\n",
              "      <th>difficulty</th>\n",
              "      <th>ciphertext</th>\n",
              "      <th>target</th>\n",
              "    </tr>\n",
              "  </thead>\n",
              "  <tbody>\n",
              "    <tr>\n",
              "      <th>5</th>\n",
              "      <td>ID_74aea63c4</td>\n",
              "      <td>3</td>\n",
              "      <td>$8eb8BP1,&amp;Y8{7$8jj\u0003$*\u00104$\u0010{8J}}Pl?{$O8{7$4\u001ad8,7...</td>\n",
              "      <td>16</td>\n",
              "    </tr>\n",
              "    <tr>\n",
              "      <th>10</th>\n",
              "      <td>ID_4d9159493</td>\n",
              "      <td>3</td>\n",
              "      <td>888&amp;l\u001881n}sd8888888888888888888888888888888888...</td>\n",
              "      <td>8</td>\n",
              "    </tr>\n",
              "    <tr>\n",
              "      <th>17</th>\n",
              "      <td>ID_455a5f4dc</td>\n",
              "      <td>3</td>\n",
              "      <td>6\u001ag8d8ibm8y897*m}{s.7$*8f$\u0010q$?EB8888Z\u0010{$*\u0010${8d...</td>\n",
              "      <td>2</td>\n",
              "    </tr>\n",
              "    <tr>\n",
              "      <th>19</th>\n",
              "      <td>ID_b24d49b42</td>\n",
              "      <td>3</td>\n",
              "      <td>o{}8ju?{n*$8rc8j*vej\u0010\u001a881l*8$2Z4.?$8ZH\u0003$87$V*P...</td>\n",
              "      <td>15</td>\n",
              "    </tr>\n",
              "    <tr>\n",
              "      <th>30</th>\n",
              "      <td>ID_3e6c7890e</td>\n",
              "      <td>3</td>\n",
              "      <td>ln8{7s\u0010q8ido8J*$\u001at8b8XZes8{e8{7$8m*uoz\u0010C?8#n$}...</td>\n",
              "      <td>15</td>\n",
              "    </tr>\n",
              "  </tbody>\n",
              "</table>\n",
              "</div>"
            ],
            "text/plain": [
              "              Id  ...  target\n",
              "5   ID_74aea63c4  ...      16\n",
              "10  ID_4d9159493  ...       8\n",
              "17  ID_455a5f4dc  ...       2\n",
              "19  ID_b24d49b42  ...      15\n",
              "30  ID_3e6c7890e  ...      15\n",
              "\n",
              "[5 rows x 4 columns]"
            ]
          },
          "metadata": {
            "tags": []
          },
          "execution_count": 21
        }
      ]
    },
    {
      "cell_type": "code",
      "metadata": {
        "id": "e_pvBziA2NTT",
        "colab_type": "code",
        "outputId": "3c3f6961-ab4c-460b-dcba-4573e55e9990",
        "colab": {
          "base_uri": "https://localhost:8080/",
          "height": 374
        }
      },
      "source": [
        "#training a classifier on deciphered texts\n",
        "X_train_decrypt, X_test_decrypt, y_train_decrypt, y_test_decrypt = train_test_split(df_decrypt['ciphertext'], df_decrypt['target'])\n",
        "pipeline_decrypt.fit(X_train_decrypt, y_train_decrypt)"
      ],
      "execution_count": 22,
      "outputs": [
        {
          "output_type": "execute_result",
          "data": {
            "text/plain": [
              "Pipeline(memory=None,\n",
              "         steps=[('vect',\n",
              "                 TfidfVectorizer(analyzer='word', binary=False,\n",
              "                                 decode_error='strict',\n",
              "                                 dtype=<class 'numpy.float64'>,\n",
              "                                 encoding='utf-8', input='content',\n",
              "                                 lowercase=False, max_df=1.0, max_features=None,\n",
              "                                 min_df=1, ngram_range=(1, 6), norm='l2',\n",
              "                                 preprocessor=None, smooth_idf=True,\n",
              "                                 stop_words=None, strip_accents=None,\n",
              "                                 sublinear_tf=False,\n",
              "                                 token_pattern='(?u)\\\\b\\\\w\\\\w+\\\\b',\n",
              "                                 tokenizer=None, use_idf=True,\n",
              "                                 vocabulary=None)),\n",
              "                ('clf',\n",
              "                 LinearSVC(C=1.0, class_weight=None, dual=True,\n",
              "                           fit_intercept=True, intercept_scaling=1,\n",
              "                           loss='squared_hinge', max_iter=1000,\n",
              "                           multi_class='ovr', penalty='l2', random_state=None,\n",
              "                           tol=0.0001, verbose=0))],\n",
              "         verbose=False)"
            ]
          },
          "metadata": {
            "tags": []
          },
          "execution_count": 22
        }
      ]
    },
    {
      "cell_type": "code",
      "metadata": {
        "id": "Tgq6ouo34ezI",
        "colab_type": "code",
        "outputId": "9384694f-3625-440c-890c-28dda68a7d80",
        "colab": {
          "base_uri": "https://localhost:8080/",
          "height": 51
        }
      },
      "source": [
        "y_pred_decrypt = pipeline_decrypt.predict(X_test_decrypt)\n",
        "print(f\"Accuracy: {accuracy_score(y_test_decrypt, y_pred_decrypt)}\")\n",
        "print(f\"Macro F1: {f1_score(y_test_decrypt, y_pred_decrypt, average='macro')}\")"
      ],
      "execution_count": 23,
      "outputs": [
        {
          "output_type": "stream",
          "text": [
            "Accuracy: 0.6827079934747146\n",
            "Macro F1: 0.6673818933491259\n"
          ],
          "name": "stdout"
        }
      ]
    },
    {
      "cell_type": "code",
      "metadata": {
        "id": "IZUYrbai90i8",
        "colab_type": "code",
        "outputId": "9bc6c291-4859-45fe-dd3f-ffb67721e993",
        "colab": {
          "base_uri": "https://localhost:8080/",
          "height": 374
        }
      },
      "source": [
        "X_train_encrypt, X_test_encrypt, y_train_encrypt, y_test_encrypt = train_test_split(df_encrypt['ciphertext'], df_encrypt['target'])\n",
        "pipeline_encrypt.fit(X_train_encrypt, y_train_encrypt)"
      ],
      "execution_count": 24,
      "outputs": [
        {
          "output_type": "execute_result",
          "data": {
            "text/plain": [
              "Pipeline(memory=None,\n",
              "         steps=[('vect',\n",
              "                 TfidfVectorizer(analyzer='char', binary=False,\n",
              "                                 decode_error='strict',\n",
              "                                 dtype=<class 'numpy.float64'>,\n",
              "                                 encoding='utf-8', input='content',\n",
              "                                 lowercase=False, max_df=1.0, max_features=None,\n",
              "                                 min_df=1, ngram_range=(1, 6), norm='l2',\n",
              "                                 preprocessor=None, smooth_idf=True,\n",
              "                                 stop_words=None, strip_accents=None,\n",
              "                                 sublinear_tf=False,\n",
              "                                 token_pattern='(?u)\\\\b\\\\w\\\\w+\\\\b',\n",
              "                                 tokenizer=None, use_idf=True,\n",
              "                                 vocabulary=None)),\n",
              "                ('clf',\n",
              "                 LinearSVC(C=1.0, class_weight=None, dual=True,\n",
              "                           fit_intercept=True, intercept_scaling=1,\n",
              "                           loss='squared_hinge', max_iter=1000,\n",
              "                           multi_class='ovr', penalty='l2', random_state=None,\n",
              "                           tol=0.0001, verbose=0))],\n",
              "         verbose=False)"
            ]
          },
          "metadata": {
            "tags": []
          },
          "execution_count": 24
        }
      ]
    },
    {
      "cell_type": "markdown",
      "metadata": {
        "id": "W9sbA3QI9GrI",
        "colab_type": "text"
      },
      "source": [
        "A classifier trained only on decrypted texts performs better, while a classifier trained only on encrypted texts performs worse."
      ]
    },
    {
      "cell_type": "code",
      "metadata": {
        "id": "RiGzsCHZ80Y7",
        "colab_type": "code",
        "outputId": "fd5601e2-f0a9-4ecf-ccab-58cb7ce22e6f",
        "colab": {
          "base_uri": "https://localhost:8080/",
          "height": 51
        }
      },
      "source": [
        "y_pred_encrypt = pipeline_encrypt.predict(X_test_encrypt)\n",
        "print(f\"Accuracy: {accuracy_score(y_test_encrypt, y_pred_encrypt)}\")\n",
        "print(f\"Macro F1: {f1_score(y_test_encrypt, y_pred_encrypt, average='macro')}\")"
      ],
      "execution_count": 25,
      "outputs": [
        {
          "output_type": "stream",
          "text": [
            "Accuracy: 0.3582304526748971\n",
            "Macro F1: 0.318364280633829\n"
          ],
          "name": "stdout"
        }
      ]
    },
    {
      "cell_type": "code",
      "metadata": {
        "id": "SGQWAOzw-8Ph",
        "colab_type": "code",
        "colab": {}
      },
      "source": [
        "#a custom prediction function \n",
        "def predict(X_test):\n",
        "    y_pred = []\n",
        "    for i in range(len(X_test)):\n",
        "        if X_test['difficulty'][i] == 1 or X_test['difficulty'][i] == 2:\n",
        "            y_pred.append(pipeline_decrypt.predict([X_test['ciphertext'][i]])[0])\n",
        "        else:\n",
        "            y_pred.append(pipeline_encrypt.predict([X_test['ciphertext'][i]])[0])\n",
        "    return y_pred\n",
        "\n",
        "y_pred = predict(X_test)"
      ],
      "execution_count": 0,
      "outputs": []
    },
    {
      "cell_type": "code",
      "metadata": {
        "id": "Ft8iLUXzEZLh",
        "colab_type": "code",
        "outputId": "0a498bf9-9320-430a-dedb-ffbfea9ccda3",
        "colab": {
          "base_uri": "https://localhost:8080/",
          "height": 51
        }
      },
      "source": [
        "print(f\"Accuracy: {accuracy_score(y_test, y_pred)}\")\n",
        "print(f\"Macro F1: {f1_score(y_test, y_pred, average='macro')}\") #finally good scores!"
      ],
      "execution_count": 30,
      "outputs": [
        {
          "output_type": "stream",
          "text": [
            "Accuracy: 0.8815937724060228\n",
            "Macro F1: 0.8841258280040476\n"
          ],
          "name": "stdout"
        }
      ]
    },
    {
      "cell_type": "markdown",
      "metadata": {
        "id": "YVKA221secLw",
        "colab_type": "text"
      },
      "source": [
        "#Classification report and confusion matrix"
      ]
    },
    {
      "cell_type": "markdown",
      "metadata": {
        "id": "mGkpObFvPvde",
        "colab_type": "text"
      },
      "source": [
        "To make results more readable, integer target indices were converted to corresponding newsgroups labels."
      ]
    },
    {
      "cell_type": "code",
      "metadata": {
        "id": "Hz6oIMPIGSzC",
        "colab_type": "code",
        "colab": {}
      },
      "source": [
        "target_names = ['alt.atheism', \\\n",
        "                'comp.graphics', \\\n",
        "                'comp.os.ms-windows.misc', \\\n",
        "                'comp.sys.ibm.pc.hardware', \\\n",
        "                'comp.sys.mac.hardware',\n",
        "                'comp.windows.x',\n",
        "                'misc.forsale',\n",
        "                'rec.autos',\n",
        "                'rec.motorcycles',\n",
        "                'rec.sport.baseball',\n",
        "                'rec.sport.hockey',\n",
        "                'sci.crypt',\n",
        "                'sci.electronics',\n",
        "                'sci.med',\n",
        "                'sci.space',\n",
        "                'soc.religion.christian',\n",
        "                'talk.politics.guns',\n",
        "                'talk.politics.mideast',\n",
        "                'talk.politics.misc',\n",
        "                'talk.religion.misc']"
      ],
      "execution_count": 0,
      "outputs": []
    },
    {
      "cell_type": "code",
      "metadata": {
        "id": "EhN_C6VZTdXK",
        "colab_type": "code",
        "colab": {}
      },
      "source": [
        "y_test = [target_names[i] for i in y_test]\n",
        "y_pred = [target_names[i] for i in y_pred]"
      ],
      "execution_count": 0,
      "outputs": []
    },
    {
      "cell_type": "code",
      "metadata": {
        "id": "2G9QTioqTsrj",
        "colab_type": "code",
        "outputId": "7ae3c885-39f4-4c44-9c4f-e55d102eeb00",
        "colab": {
          "base_uri": "https://localhost:8080/",
          "height": 476
        }
      },
      "source": [
        "print(classification_report(y_test, y_pred))"
      ],
      "execution_count": 0,
      "outputs": [
        {
          "output_type": "stream",
          "text": [
            "                          precision    recall  f1-score   support\n",
            "\n",
            "             alt.atheism       0.93      0.86      0.89       449\n",
            "           comp.graphics       0.85      0.87      0.86       452\n",
            " comp.os.ms-windows.misc       0.92      0.92      0.92       667\n",
            "comp.sys.ibm.pc.hardware       0.89      0.83      0.86       364\n",
            "   comp.sys.mac.hardware       0.97      0.81      0.88       323\n",
            "          comp.windows.x       0.79      0.91      0.85       530\n",
            "            misc.forsale       0.94      0.85      0.89       293\n",
            "               rec.autos       0.94      0.85      0.89       421\n",
            "         rec.motorcycles       0.93      0.88      0.90       407\n",
            "      rec.sport.baseball       0.93      0.87      0.90       426\n",
            "        rec.sport.hockey       0.92      0.91      0.91       500\n",
            "               sci.crypt       0.84      0.89      0.86       599\n",
            "         sci.electronics       0.94      0.81      0.88       400\n",
            "                 sci.med       0.90      0.84      0.87       520\n",
            "               sci.space       0.95      0.88      0.91       488\n",
            "  soc.religion.christian       0.79      0.91      0.84       638\n",
            "      talk.politics.guns       0.86      0.85      0.85       533\n",
            "   talk.politics.mideast       0.74      0.94      0.83       811\n",
            "      talk.politics.misc       0.86      0.85      0.85       568\n",
            "      talk.religion.misc       0.95      0.79      0.87       374\n",
            "\n",
            "                accuracy                           0.87      9763\n",
            "               macro avg       0.89      0.87      0.88      9763\n",
            "            weighted avg       0.88      0.87      0.87      9763\n",
            "\n"
          ],
          "name": "stdout"
        }
      ]
    },
    {
      "cell_type": "code",
      "metadata": {
        "id": "-OMVsBOcT0dQ",
        "colab_type": "code",
        "colab": {}
      },
      "source": [
        "def plot_confusion_matrix(cm, title='Confusion matrix', cmap=plt.cm.Blues):\n",
        "    plt.figure(figsize=(20,10))\n",
        "    plt.imshow(cm, interpolation='nearest', cmap=cmap)\n",
        "    plt.title(title)\n",
        "    plt.colorbar()\n",
        "    tick_marks = np.arange(len(target_names))\n",
        "    plt.xticks(tick_marks, target_names, rotation=45)\n",
        "    plt.yticks(tick_marks, target_names)\n",
        "    plt.ylabel('True label')\n",
        "    plt.xlabel('Predicted label')"
      ],
      "execution_count": 0,
      "outputs": []
    },
    {
      "cell_type": "code",
      "metadata": {
        "id": "gFblA1usURjU",
        "colab_type": "code",
        "outputId": "e94c7108-c38f-4201-f992-8f072bab6ee4",
        "colab": {
          "base_uri": "https://localhost:8080/",
          "height": 714
        }
      },
      "source": [
        "cm = confusion_matrix(y_test, y_pred)\n",
        "plot_confusion_matrix(cm)"
      ],
      "execution_count": 0,
      "outputs": [
        {
          "output_type": "display_data",
          "data": {
            "image/png": "[encoded data removed]",
            "text/plain": [
              "<Figure size 1440x720 with 2 Axes>"
            ]
          },
          "metadata": {
            "tags": []
          }
        }
      ]
    },
    {
      "cell_type": "markdown",
      "metadata": {
        "id": "UrZHwXZ_elos",
        "colab_type": "text"
      },
      "source": [
        "#Making predictions for a Kaggle test set"
      ]
    },
    {
      "cell_type": "code",
      "metadata": {
        "id": "T6bNk4rdUWlt",
        "colab_type": "code",
        "colab": {}
      },
      "source": [
        "X_test_final = pd.read_csv(\"test.csv\")"
      ],
      "execution_count": 0,
      "outputs": []
    },
    {
      "cell_type": "code",
      "metadata": {
        "id": "E5X0RDvxm08x",
        "colab_type": "code",
        "outputId": "a69a5211-327d-49db-a1bb-89505ac100e8",
        "colab": {
          "base_uri": "https://localhost:8080/",
          "height": 34
        }
      },
      "source": [
        "X_test_final.shape"
      ],
      "execution_count": 41,
      "outputs": [
        {
          "output_type": "execute_result",
          "data": {
            "text/plain": [
              "(91122, 3)"
            ]
          },
          "metadata": {
            "tags": []
          },
          "execution_count": 41
        }
      ]
    },
    {
      "cell_type": "code",
      "metadata": {
        "id": "bejW8Tx5fPK3",
        "colab_type": "code",
        "outputId": "c1d670ef-ffc6-4b2c-8ffa-b5aa1897d413",
        "colab": {
          "base_uri": "https://localhost:8080/",
          "height": 204
        }
      },
      "source": [
        "X_test_final.head()"
      ],
      "execution_count": 42,
      "outputs": [
        {
          "output_type": "execute_result",
          "data": {
            "text/html": [
              "<div>\n",
              "<style scoped>\n",
              "    .dataframe tbody tr th:only-of-type {\n",
              "        vertical-align: middle;\n",
              "    }\n",
              "\n",
              "    .dataframe tbody tr th {\n",
              "        vertical-align: top;\n",
              "    }\n",
              "\n",
              "    .dataframe thead th {\n",
              "        text-align: right;\n",
              "    }\n",
              "</style>\n",
              "<table border=\"1\" class=\"dataframe\">\n",
              "  <thead>\n",
              "    <tr style=\"text-align: right;\">\n",
              "      <th></th>\n",
              "      <th>Id</th>\n",
              "      <th>difficulty</th>\n",
              "      <th>ciphertext</th>\n",
              "    </tr>\n",
              "  </thead>\n",
              "  <tbody>\n",
              "    <tr>\n",
              "      <th>0</th>\n",
              "      <td>ID_65f17e60f</td>\n",
              "      <td>1</td>\n",
              "      <td>a\u00021t0\u001b1OAAata^\u0002O81\u001e/e1'O_f1q1at;v1'#\u001bttos1QQv8...</td>\n",
              "    </tr>\n",
              "    <tr>\n",
              "      <th>1</th>\n",
              "      <td>ID_ba83b2917</td>\n",
              "      <td>2</td>\n",
              "      <td>^V*$z8d*e4z8\u001b8SF38e*8|8SFO8Hh}m}[8^7$\u00108A84ej\u0010{...</td>\n",
              "    </tr>\n",
              "    <tr>\n",
              "      <th>2</th>\n",
              "      <td>ID_ff4e56b9c</td>\n",
              "      <td>3</td>\n",
              "      <td>$*c8?l{{?$8G\u0018iw{8{7$8Z9J8Edj?O$*8\b_n}{87U\u0003$8{7...</td>\n",
              "    </tr>\n",
              "    <tr>\n",
              "      <th>3</th>\n",
              "      <td>ID_81b64cbc5</td>\n",
              "      <td>2</td>\n",
              "      <td>nL6! 8lL\u00066M84VkVoh\u0010$\u001a88\u00067h}8h}88\f,\u00068z888888888...</td>\n",
              "    </tr>\n",
              "    <tr>\n",
              "      <th>4</th>\n",
              "      <td>ID_851f738e5</td>\n",
              "      <td>2</td>\n",
              "      <td>}8z8}{Vv$H8h\u001086*4$\u0010hVWz8z8\\\b%p8\\Sp8lf9V*{7v[8\\...</td>\n",
              "    </tr>\n",
              "  </tbody>\n",
              "</table>\n",
              "</div>"
            ],
            "text/plain": [
              "             Id  difficulty                                         ciphertext\n",
              "0  ID_65f17e60f           1  a\u00021t0\u001b1OAAata^\u0002O81\n",
              "/e1'O_f1q1at;v1'#\u001bttos1QQv8...\n",
              "1  ID_ba83b2917           2  ^V*$z8d*e4z8\u001b8SF38e*8|8SFO8Hh}m}[8^7$\u00108A84ej\u0010{...\n",
              "2  ID_ff4e56b9c           3  $*c8?l{{?$8G\u0018iw{8{7$8Z9J8Edj?O$*8\b_n}{87U\u0003$8{7...\n",
              "3  ID_81b64cbc5           2  nL6! 8lL\u00066M84VkVoh\u0010$\u001a88\u00067h}8h}88\n",
              ",\u00068z888888888...\n",
              "4  ID_851f738e5           2  }8z8}{Vv$H8h\u001086*4$\u0010hVWz8z8\\\b%p8\\Sp8lf9V*{7v[8\\..."
            ]
          },
          "metadata": {
            "tags": []
          },
          "execution_count": 42
        }
      ]
    },
    {
      "cell_type": "markdown",
      "metadata": {
        "id": "QPQMZY21icXV",
        "colab_type": "text"
      },
      "source": [
        "While deciphering the test set, I encountered a problem – ciphers 1 and 2 mappings found by Flal are incomplete! That means they don't cover all characters occurring in encrypted texts. They don't even cover all alphanumeric characters! Apparently, those characters were so rare they didn't even appear in train set, but were present in the much larger test set, which raised multiple KeyErrors when trying to decipher it."
      ]
    },
    {
      "cell_type": "code",
      "metadata": {
        "id": "D4z_47sRle_m",
        "colab_type": "code",
        "colab": {}
      },
      "source": [
        "import string\n",
        "\n",
        "chars = set(string.printable)"
      ],
      "execution_count": 0,
      "outputs": []
    },
    {
      "cell_type": "code",
      "metadata": {
        "id": "Ehiix4oklxSH",
        "colab_type": "code",
        "outputId": "7cbe52c1-5d58-4ebf-b2a9-ae2af0acca8b",
        "colab": {
          "base_uri": "https://localhost:8080/",
          "height": 34
        }
      },
      "source": [
        "chars - set(cipher[1].keys()) #cipher 1 mapping is missing some important characters"
      ],
      "execution_count": 44,
      "outputs": [
        {
          "output_type": "execute_result",
          "data": {
            "text/plain": [
              "{'\\n', '\\x0b', '\\r', '7', 'C', 'M', 'N', 'R', 'j'}"
            ]
          },
          "metadata": {
            "tags": []
          },
          "execution_count": 44
        }
      ]
    },
    {
      "cell_type": "code",
      "metadata": {
        "id": "SDS0btzvmCjw",
        "colab_type": "code",
        "outputId": "3feff5b5-4ed1-4f1e-fb20-4faf7d029206",
        "colab": {
          "base_uri": "https://localhost:8080/",
          "height": 34
        }
      },
      "source": [
        "chars - set(cipher[2].keys()) #and cipher 2 mapping, too!"
      ],
      "execution_count": 45,
      "outputs": [
        {
          "output_type": "execute_result",
          "data": {
            "text/plain": [
              "{'\\x0b', '\\r', 'D', 'U', 'w'}"
            ]
          },
          "metadata": {
            "tags": []
          },
          "execution_count": 45
        }
      ]
    },
    {
      "cell_type": "markdown",
      "metadata": {
        "id": "8R9mWcMjmSQi",
        "colab_type": "text"
      },
      "source": [
        "So I had no choice but to simply ignore every character the mappings fail to decypher."
      ]
    },
    {
      "cell_type": "code",
      "metadata": {
        "id": "nqnyisy3nMI8",
        "colab_type": "code",
        "colab": {}
      },
      "source": [
        "def decipher(text, cipher):\n",
        "    result = ''\n",
        "    for i in range(len(text)):\n",
        "        try:\n",
        "            result += cipher[text[i]]\n",
        "        except KeyError:\n",
        "            result += ''\n",
        "    return result"
      ],
      "execution_count": 0,
      "outputs": []
    },
    {
      "cell_type": "markdown",
      "metadata": {
        "id": "-VaL1jZs00m8",
        "colab_type": "text"
      },
      "source": [
        "Since this test set is really huge, decrypting it in-place will be slow and unefficient. Instead it's better to make predictions right away, decrypting texts if needed."
      ]
    },
    {
      "cell_type": "code",
      "metadata": {
        "id": "dFdEW5eUfXwJ",
        "colab_type": "code",
        "colab": {}
      },
      "source": [
        "def predict(X_test):\n",
        "    y_pred = []\n",
        "    for i in range(len(X_test)):\n",
        "        if X_test['difficulty'][i] == 1 or X_test['difficulty'][i] == 2:\n",
        "            text = decipher(X_test['ciphertext'][i], cipher[X_test['difficulty'][i]])\n",
        "            y_pred.append(pipeline_decrypt.predict([text])[0])\n",
        "        else:\n",
        "            y_pred.append(pipeline_encrypt.predict([X_test['ciphertext'][i]])[0])\n",
        "    return y_pred\n",
        "\n",
        "y_pred_final = predict(X_test_final)"
      ],
      "execution_count": 0,
      "outputs": []
    },
    {
      "cell_type": "code",
      "metadata": {
        "id": "nLp9lPMIjhrL",
        "colab_type": "code",
        "colab": {}
      },
      "source": [
        "series = [X_test_final['Id'], pd.Series(y_pred_final)]\n",
        "submission = pd.concat(series, axis=1)\n",
        "submission.columns = ['Id', 'Predicted']"
      ],
      "execution_count": 0,
      "outputs": []
    },
    {
      "cell_type": "code",
      "metadata": {
        "id": "uv2-5lEKnSm1",
        "colab_type": "code",
        "colab": {
          "base_uri": "https://localhost:8080/",
          "height": 204
        },
        "outputId": "6fcb02e4-9414-48be-c193-9f6499c945e2"
      },
      "source": [
        "submission.head()"
      ],
      "execution_count": 52,
      "outputs": [
        {
          "output_type": "execute_result",
          "data": {
            "text/html": [
              "<div>\n",
              "<style scoped>\n",
              "    .dataframe tbody tr th:only-of-type {\n",
              "        vertical-align: middle;\n",
              "    }\n",
              "\n",
              "    .dataframe tbody tr th {\n",
              "        vertical-align: top;\n",
              "    }\n",
              "\n",
              "    .dataframe thead th {\n",
              "        text-align: right;\n",
              "    }\n",
              "</style>\n",
              "<table border=\"1\" class=\"dataframe\">\n",
              "  <thead>\n",
              "    <tr style=\"text-align: right;\">\n",
              "      <th></th>\n",
              "      <th>Id</th>\n",
              "      <th>Predicted</th>\n",
              "    </tr>\n",
              "  </thead>\n",
              "  <tbody>\n",
              "    <tr>\n",
              "      <th>0</th>\n",
              "      <td>ID_65f17e60f</td>\n",
              "      <td>15</td>\n",
              "    </tr>\n",
              "    <tr>\n",
              "      <th>1</th>\n",
              "      <td>ID_ba83b2917</td>\n",
              "      <td>2</td>\n",
              "    </tr>\n",
              "    <tr>\n",
              "      <th>2</th>\n",
              "      <td>ID_ff4e56b9c</td>\n",
              "      <td>7</td>\n",
              "    </tr>\n",
              "    <tr>\n",
              "      <th>3</th>\n",
              "      <td>ID_81b64cbc5</td>\n",
              "      <td>15</td>\n",
              "    </tr>\n",
              "    <tr>\n",
              "      <th>4</th>\n",
              "      <td>ID_851f738e5</td>\n",
              "      <td>17</td>\n",
              "    </tr>\n",
              "  </tbody>\n",
              "</table>\n",
              "</div>"
            ],
            "text/plain": [
              "             Id  Predicted\n",
              "0  ID_65f17e60f         15\n",
              "1  ID_ba83b2917          2\n",
              "2  ID_ff4e56b9c          7\n",
              "3  ID_81b64cbc5         15\n",
              "4  ID_851f738e5         17"
            ]
          },
          "metadata": {
            "tags": []
          },
          "execution_count": 52
        }
      ]
    },
    {
      "cell_type": "code",
      "metadata": {
        "id": "vlVuPinRobZ_",
        "colab_type": "code",
        "colab": {}
      },
      "source": [
        "submission.to_csv(\"submission.csv\", index=False) #saving and downloading locally\n",
        "files.download(\"submission.csv\")"
      ],
      "execution_count": 0,
      "outputs": []
    },
    {
      "cell_type": "markdown",
      "metadata": {
        "id": "9L6zKGierNba",
        "colab_type": "text"
      },
      "source": [
        "Macro F1 score on a Kaggle competition test set – 0.49459."
      ]
    },
    {
      "cell_type": "code",
      "metadata": {
        "id": "GSynSEwAoxuF",
        "colab_type": "code",
        "colab": {}
      },
      "source": [
        ""
      ],
      "execution_count": 0,
      "outputs": []
    }
  ]
}